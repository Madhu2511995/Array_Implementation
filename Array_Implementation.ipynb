{
  "cells": [
    {
      "cell_type": "markdown",
      "metadata": {
        "id": "CZOPtGMvXq09"
      },
      "source": [
        "# **Largest Element In an array**"
      ]
    },
    {
      "cell_type": "code",
      "execution_count": null,
      "metadata": {
        "colab": {
          "base_uri": "https://localhost:8080/"
        },
        "id": "Tb0oL1xbXrcN",
        "outputId": "cb8afa90-ef59-430c-e288-ae941635dd84"
      },
      "outputs": [
        {
          "name": "stdout",
          "output_type": "stream",
          "text": [
            "7\n"
          ]
        }
      ],
      "source": [
        "# Method 1\n",
        "arr=[1,3,4,7,7,5]\n",
        "arr.sort()\n",
        "print(arr[len(arr)-1])"
      ]
    },
    {
      "cell_type": "code",
      "execution_count": null,
      "metadata": {
        "colab": {
          "base_uri": "https://localhost:8080/"
        },
        "id": "xTAnGkMpYZSG",
        "outputId": "f6905f8b-1570-4786-f0d3-b03833c05810"
      },
      "outputs": [
        {
          "name": "stdout",
          "output_type": "stream",
          "text": [
            "7\n"
          ]
        }
      ],
      "source": [
        "# Method 2\n",
        "arr=[1,3,4,7,7,5]\n",
        "largest=0\n",
        "for i in range(len(arr)):\n",
        "  if arr[i]>largest:\n",
        "    largest=arr[i]\n",
        "print(largest)"
      ]
    },
    {
      "cell_type": "markdown",
      "metadata": {
        "id": "VyDYHrNvY8IS"
      },
      "source": [
        "# **Second Largest Element**"
      ]
    },
    {
      "cell_type": "code",
      "execution_count": null,
      "metadata": {
        "colab": {
          "base_uri": "https://localhost:8080/"
        },
        "id": "ZYtzkLilZCpi",
        "outputId": "3a3b835f-a673-4197-a129-e8c00d75ca62"
      },
      "outputs": [
        {
          "name": "stdout",
          "output_type": "stream",
          "text": [
            "5\n"
          ]
        }
      ],
      "source": [
        "# Method 1\n",
        "arr=[1,3,4,7,7,5]\n",
        "arr.sort()\n",
        "largest=arr[len(arr)-1]\n",
        "for i in range(len(arr)-1,0,-1):\n",
        "  if largest!=arr[i]:\n",
        "    print(arr[i])\n",
        "    break\n"
      ]
    },
    {
      "cell_type": "code",
      "execution_count": null,
      "metadata": {
        "colab": {
          "base_uri": "https://localhost:8080/"
        },
        "id": "9xAwMQaSZCrr",
        "outputId": "1d3e13e2-2410-4c0c-e998-c966b3c40858"
      },
      "outputs": [
        {
          "name": "stdout",
          "output_type": "stream",
          "text": [
            "5\n"
          ]
        }
      ],
      "source": [
        "# Method 2\n",
        "arr=[1,3,4,7,7,5]\n",
        "largest=arr[0]\n",
        "for i in range(len(arr)):\n",
        "  if arr[i]>largest:\n",
        "    largest=arr[i]\n",
        "slargest=-1\n",
        "for j in range(len(arr)):\n",
        "  if arr[j]>slargest and arr[j]!=largest:\n",
        "    slargest=arr[j]\n",
        "print(slargest)\n"
      ]
    },
    {
      "cell_type": "code",
      "execution_count": null,
      "metadata": {
        "colab": {
          "base_uri": "https://localhost:8080/"
        },
        "id": "DOGPMlvUZCv3",
        "outputId": "a8ce6f91-0911-46f9-92dc-2c7cf9c19c7c"
      },
      "outputs": [
        {
          "name": "stdout",
          "output_type": "stream",
          "text": [
            "5\n"
          ]
        }
      ],
      "source": [
        "# Method 3\n",
        "import math\n",
        "arr=[1,3,4,7,7,5]\n",
        "l=arr[0]\n",
        "sl=-1\n",
        "for i in range(len(arr)):\n",
        "  if arr[i]>l:\n",
        "    sl=l\n",
        "    l=arr[i]\n",
        "  elif arr[i]<l and arr[i]>sl:\n",
        "    sl=arr[i]\n",
        "print(sl)"
      ]
    },
    {
      "cell_type": "code",
      "execution_count": null,
      "metadata": {
        "colab": {
          "base_uri": "https://localhost:8080/"
        },
        "id": "u57FN1PF-HRC",
        "outputId": "22c3c7e4-13c2-4788-c68f-5f2b4cdfb31e"
      },
      "outputs": [
        {
          "name": "stdout",
          "output_type": "stream",
          "text": [
            "5\n"
          ]
        }
      ],
      "source": [
        "import math\n",
        "arr=[1,3,4,7,7,5]\n",
        "f_max=-math.inf\n",
        "s_max=-math.inf\n",
        "arr.sort()\n",
        "for i in range(len(arr)):\n",
        "  if f_max<=i:\n",
        "    s_max=f_max\n",
        "    f_max=arr[i]\n",
        "  elif s_max<i and f_max<i:\n",
        "    s_max=arr[i]\n",
        "print(s_max)"
      ]
    },
    {
      "cell_type": "markdown",
      "metadata": {
        "id": "U7l_oIl3lC0U"
      },
      "source": [
        "# **Smallest and second smallest**"
      ]
    },
    {
      "cell_type": "code",
      "execution_count": null,
      "metadata": {
        "colab": {
          "base_uri": "https://localhost:8080/"
        },
        "id": "m_MEyu-uZCyf",
        "outputId": "b15dc45f-3cf2-4716-bf1e-51008dea38b0"
      },
      "outputs": [
        {
          "name": "stdout",
          "output_type": "stream",
          "text": [
            "Smallest Value :  1\n",
            "Second Smallest Value :  3\n"
          ]
        }
      ],
      "source": [
        "import math\n",
        "arr=[1,3,4,7,7,5]\n",
        "smallest=math.inf\n",
        "secondsmallest=math.inf\n",
        "for i in range(len(arr)):\n",
        "  if arr[i]<smallest:\n",
        "    secondsmallest=smallest\n",
        "    smallest=arr[i]\n",
        "  elif arr[i]!=smallest and arr[i]<secondsmallest:\n",
        "    secondsmallest=arr[i]\n",
        "print(\"Smallest Value : \",smallest)\n",
        "print(\"Second Smallest Value : \",secondsmallest)"
      ]
    },
    {
      "cell_type": "markdown",
      "metadata": {
        "id": "mmyXhkutrYhK"
      },
      "source": [
        "# **Check Is array sorted**"
      ]
    },
    {
      "cell_type": "code",
      "execution_count": null,
      "metadata": {
        "colab": {
          "base_uri": "https://localhost:8080/"
        },
        "id": "dWiUEXYbZC2l",
        "outputId": "e9a232ea-4c29-4a50-f5dc-e4c6178d4d20"
      },
      "outputs": [
        {
          "name": "stdout",
          "output_type": "stream",
          "text": [
            "Not sorted\n"
          ]
        }
      ],
      "source": [
        "arr=[1,3,4,7,5]\n",
        "for i in range(1,len(arr)):\n",
        "  if arr[i]>=arr[i-1]:\n",
        "    pass\n",
        "  else:\n",
        "    print(\"Not sorted\")\n",
        "    break\n",
        "else:\n",
        "  print('Sorted')"
      ]
    },
    {
      "cell_type": "markdown",
      "metadata": {
        "id": "MMmQSo_DsvyD"
      },
      "source": [
        "# **Remove duplicate from sorted array**"
      ]
    },
    {
      "cell_type": "code",
      "execution_count": null,
      "metadata": {
        "colab": {
          "base_uri": "https://localhost:8080/"
        },
        "id": "osko6wfTunV1",
        "outputId": "cb47b42c-745f-44bb-bcb2-0c595f6944c0"
      },
      "outputs": [
        {
          "name": "stdout",
          "output_type": "stream",
          "text": [
            "f\n"
          ]
        }
      ],
      "source": [
        "l=[\"flight\",\"flower\",'fear','flow']\n",
        "new_s=l[0]\n",
        "size=[]\n",
        "res=''\n",
        "for  i in  l:\n",
        "    size.append(len(i))\n",
        "for i in range(min(size)):\n",
        "    count=0\n",
        "    for s in l:\n",
        "        if new_s[i] == s[i]:\n",
        "            count+=1\n",
        "    if count==len(l):\n",
        "        res+=s[i]\n",
        "print(res)"
      ]
    },
    {
      "cell_type": "code",
      "execution_count": null,
      "metadata": {
        "colab": {
          "base_uri": "https://localhost:8080/"
        },
        "id": "Z8rvMnj7ZC5f",
        "outputId": "78949e3f-d951-4a41-9582-85f5ac3758f0"
      },
      "outputs": [
        {
          "name": "stdout",
          "output_type": "stream",
          "text": [
            "{1, 2, 3, 4}\n"
          ]
        }
      ],
      "source": [
        "l=[1,1,2,2,3,3,3,4]\n",
        "s=set()\n",
        "for i in range(len(l)):\n",
        "  s.add(l[i])\n",
        "print(s)"
      ]
    },
    {
      "cell_type": "code",
      "execution_count": null,
      "metadata": {
        "colab": {
          "base_uri": "https://localhost:8080/"
        },
        "id": "xSPl3xi40ktx",
        "outputId": "1b0ccc4e-5cb2-4829-bb0e-25929005bfcb"
      },
      "outputs": [
        {
          "name": "stdout",
          "output_type": "stream",
          "text": [
            "[1, 2, 3, 4, 5, 7]\n"
          ]
        }
      ],
      "source": [
        "# Count the number of unique element\n",
        "l=[1,1,1,1,2,2,2,3,3,3,3,4,5,5,5,5,7]\n",
        "arr=[]\n",
        "i=0\n",
        "arr.append(l[0])\n",
        "for j in range(0,len(l)):\n",
        "  if l[j]!=l[i]:\n",
        "    arr.append(l[j])\n",
        "    l[i+1]=l[j]\n",
        "    i+=1\n",
        "print(arr)\n"
      ]
    },
    {
      "cell_type": "code",
      "execution_count": null,
      "metadata": {
        "colab": {
          "base_uri": "https://localhost:8080/"
        },
        "id": "F7AcyPOU6nr-",
        "outputId": "2d1c0f19-e76c-43d2-abaf-6a11d897a2b6"
      },
      "outputs": [
        {
          "name": "stdout",
          "output_type": "stream",
          "text": [
            "[]\n"
          ]
        }
      ],
      "source": [
        "arr=[1,1,1,1,2,2,2,3,3,3,3,4]\n",
        "i=0\n",
        "l=[]\n",
        "for j in range(len(arr)):\n",
        "  if arr[i]!=arr[j]:\n",
        "    l.append(arr[i])\n",
        "  i+=1\n",
        "print(l)\n"
      ]
    },
    {
      "cell_type": "markdown",
      "metadata": {
        "id": "sQ5wh335WNzZ"
      },
      "source": [
        "# **Left Rotate Array by one place**"
      ]
    },
    {
      "cell_type": "code",
      "execution_count": null,
      "metadata": {
        "colab": {
          "base_uri": "https://localhost:8080/"
        },
        "id": "ch1kACgoWY9Q",
        "outputId": "6bfc58c1-ae4c-4be4-f9f5-04729c960fa7"
      },
      "outputs": [
        {
          "name": "stdout",
          "output_type": "stream",
          "text": [
            "[2, 3, 4, 5, 1]\n"
          ]
        }
      ],
      "source": [
        "arr=[1,2,3,4,5]\n",
        "temp=arr[0]\n",
        "for i in range(1,len(arr)):\n",
        "  arr[i-1]=arr[i]\n",
        "arr[len(arr)-1]=temp\n",
        "print(arr)"
      ]
    },
    {
      "cell_type": "code",
      "execution_count": null,
      "metadata": {
        "colab": {
          "base_uri": "https://localhost:8080/"
        },
        "id": "01OdT95RWZEG",
        "outputId": "b543e76d-58e6-4cf5-aa98-2041d2f5e3fe"
      },
      "outputs": [
        {
          "name": "stdout",
          "output_type": "stream",
          "text": [
            "6\n",
            "[2, 3, 4, 5, 1]\n"
          ]
        }
      ],
      "source": [
        "#Method 2\n",
        "d=int(input())\n",
        "arr=[1,2,3,4,5]\n",
        "l=[]\n",
        "n=len(arr)\n",
        "d=d%n # it work when d value is gretter than lenth of array\n",
        "for i in range(d,n):\n",
        "  l.append(arr[i])\n",
        "for i in range(d):\n",
        "  l.append(arr[i])\n",
        "print(l)"
      ]
    },
    {
      "cell_type": "code",
      "execution_count": null,
      "metadata": {
        "colab": {
          "base_uri": "https://localhost:8080/"
        },
        "id": "heRsd-gXWZHE",
        "outputId": "a1d76eb1-43d1-4fb9-f468-35ed0e792d84"
      },
      "outputs": [
        {
          "name": "stdout",
          "output_type": "stream",
          "text": [
            "6\n"
          ]
        },
        {
          "data": {
            "text/plain": [
              "[2, 3, 4, 5, 1]"
            ]
          },
          "execution_count": 15,
          "metadata": {},
          "output_type": "execute_result"
        }
      ],
      "source": [
        "# Method 2 Using reverse function\n",
        "def rev(arr,s=0,e=len(arr)-1):\n",
        "  while s<=e:\n",
        "    temp=arr[s]\n",
        "    arr[s]=arr[e]\n",
        "    arr[e]=temp\n",
        "    s+=1\n",
        "    e-=1\n",
        "  return arr\n",
        "d=int(input())\n",
        "arr=[1,2,3,4,5]\n",
        "n=len(arr)\n",
        "d=d%n\n",
        "rev(arr,0,d-1)\n",
        "rev(arr,d,n-1)\n",
        "rev(arr,0,n-1)"
      ]
    },
    {
      "cell_type": "markdown",
      "metadata": {
        "id": "8ylsjxbVRv1O"
      },
      "source": [
        "# **Right Rotate array d places**"
      ]
    },
    {
      "cell_type": "code",
      "execution_count": null,
      "metadata": {
        "colab": {
          "base_uri": "https://localhost:8080/"
        },
        "id": "bZq1QNAmJXR2",
        "outputId": "29aff4fd-2e57-4c24-aa4d-7dd5b4ec3319"
      },
      "outputs": [
        {
          "name": "stdout",
          "output_type": "stream",
          "text": [
            "2\n",
            "[4, 5, 1, 2, 3]\n"
          ]
        }
      ],
      "source": [
        "d=int(input())\n",
        "arr=[1,2,3,4,5]\n",
        "l=[]\n",
        "m=[]\n",
        "n=len(arr)\n",
        "d=d%len(arr)\n",
        "for i in range(n-d,n):\n",
        "  l.append(arr[i])\n",
        "for j in range(n-d):\n",
        "  l.append(arr[j])\n",
        "print(l)"
      ]
    },
    {
      "cell_type": "markdown",
      "metadata": {
        "id": "FDBjSIaprb6v"
      },
      "source": [
        "# **Moving all zero to last of array**"
      ]
    },
    {
      "cell_type": "code",
      "execution_count": null,
      "metadata": {
        "colab": {
          "base_uri": "https://localhost:8080/"
        },
        "id": "NliTliNKvyfU",
        "outputId": "2faa9ce2-090d-4e9f-a766-8ee263202796"
      },
      "outputs": [
        {
          "name": "stdout",
          "output_type": "stream",
          "text": [
            "[1, 2, 2, 3, 1, 2, 0, 0, 0]\n"
          ]
        }
      ],
      "source": [
        "# Method 1\n",
        "arr=[1,2,0,2,3,0,0,1,2]\n",
        "l=[]\n",
        "l1=[]\n",
        "for i in range(len(arr)):\n",
        "  if arr[i]==0:\n",
        "    l1.append(arr[i])\n",
        "  else:\n",
        "    l.append(arr[i])\n",
        "l.extend(l1)\n",
        "print(l)"
      ]
    },
    {
      "cell_type": "code",
      "execution_count": null,
      "metadata": {
        "colab": {
          "base_uri": "https://localhost:8080/"
        },
        "id": "89VTk3mzWZKM",
        "outputId": "d0a986c1-da47-4677-81f5-3b4922e53f5d"
      },
      "outputs": [
        {
          "name": "stdout",
          "output_type": "stream",
          "text": [
            "[1, 2, 2, 3, 1, 2, 0, 0, 0]\n"
          ]
        }
      ],
      "source": [
        "# Method 2\n",
        "from pandas.core.common import flatten\n",
        "arr=[1,2,0,2,3,0,0,1,2]\n",
        "l=[]\n",
        "l1=[]\n",
        "for i in range(len(arr)):\n",
        "  if arr[i]==0:\n",
        "    l1.append(arr[i])\n",
        "  else:\n",
        "    l.append(arr[i])\n",
        "l.append(l1)\n",
        "print(list(flatten(l)))\n"
      ]
    },
    {
      "cell_type": "code",
      "execution_count": null,
      "metadata": {
        "colab": {
          "base_uri": "https://localhost:8080/"
        },
        "id": "gfTa7ORIWZNG",
        "outputId": "481f8aab-637b-47f5-dd58-3d45984d0bb2"
      },
      "outputs": [
        {
          "name": "stdout",
          "output_type": "stream",
          "text": [
            "[1, 2, 2, 3, 1, 2, 0, 0, 0]\n"
          ]
        }
      ],
      "source": [
        "# Method 3\n",
        "arr=[1,2,0,2,3,0,0,1,2]\n",
        "j=-1\n",
        "for i in range(len(arr)):\n",
        "  if arr[i]==0:\n",
        "    j=i\n",
        "    break\n",
        "if j==-1:\n",
        "  print(arr)\n",
        "for i in range(j+1,len(arr)):\n",
        "  if arr[i]!=0:\n",
        "    temp=arr[i]\n",
        "    arr[i]=arr[j]\n",
        "    arr[j]=temp\n",
        "    j+=1\n",
        "print(arr)\n"
      ]
    },
    {
      "cell_type": "markdown",
      "metadata": {
        "id": "UOy1CejA42qQ"
      },
      "source": [
        "# **Union of two array**"
      ]
    },
    {
      "cell_type": "code",
      "execution_count": null,
      "metadata": {
        "colab": {
          "base_uri": "https://localhost:8080/"
        },
        "id": "4czHe79MWZP4",
        "outputId": "a36fe546-1c30-4398-8f5e-a0c651f2bb36"
      },
      "outputs": [
        {
          "name": "stdout",
          "output_type": "stream",
          "text": [
            "{1, 2, 3, 4, 5, 6}\n"
          ]
        }
      ],
      "source": [
        "# Method 1\n",
        "l=[1,1,2,3,4,5,1]\n",
        "m=[2,2,3,4,6]\n",
        "u=set()\n",
        "for i in l:\n",
        "  u.add(i)\n",
        "for j in m:\n",
        "  u.add(j)\n",
        "print(u)"
      ]
    },
    {
      "cell_type": "code",
      "execution_count": null,
      "metadata": {
        "colab": {
          "base_uri": "https://localhost:8080/"
        },
        "id": "alI78OaAWZTg",
        "outputId": "37f8fa47-1119-4a05-ff77-b146ed3d270d"
      },
      "outputs": [
        {
          "name": "stdout",
          "output_type": "stream",
          "text": [
            "{1, 2, 3, 4, 5, 6}\n",
            "{2, 3, 4}\n"
          ]
        }
      ],
      "source": [
        "l=[1,1,2,3,4,5,1]\n",
        "m=[2,2,3,4,6]\n",
        "l=set(l)\n",
        "m=set(m)\n",
        "print(l.union(m))\n",
        "print(l.intersection(m))"
      ]
    },
    {
      "cell_type": "markdown",
      "metadata": {
        "id": "fVA5Smwqk2iy"
      },
      "source": [
        "# **Intersection of two array**"
      ]
    },
    {
      "cell_type": "code",
      "execution_count": null,
      "metadata": {
        "colab": {
          "base_uri": "https://localhost:8080/"
        },
        "id": "zgI9iV7ck9Te",
        "outputId": "fc121fcd-d1fd-495a-c90c-3f147c545083"
      },
      "outputs": [
        {
          "name": "stdout",
          "output_type": "stream",
          "text": [
            "{2, 3, 4}\n"
          ]
        }
      ],
      "source": [
        "# Method 1\n",
        "l=[1,1,2,3,4,5,1]\n",
        "m=[2,2,3,4,6]\n",
        "l=set(l)\n",
        "m=set(m)\n",
        "print(l.intersection(m))"
      ]
    },
    {
      "cell_type": "code",
      "execution_count": null,
      "metadata": {
        "colab": {
          "base_uri": "https://localhost:8080/"
        },
        "id": "t3OPN63dk9WX",
        "outputId": "81af1326-c1df-475c-e723-2415e1bfb903"
      },
      "outputs": [
        {
          "name": "stdout",
          "output_type": "stream",
          "text": [
            "[1, 1, 2, 3, 4]\n"
          ]
        }
      ],
      "source": [
        "#Method 2\n",
        "l=[1,1,2,3,4,5]\n",
        "m=[1,1,2,2,3,3,3,4]\n",
        "visit=[]\n",
        "for i in range(len(m)):\n",
        "  visit.append(0)\n",
        "n1=len(l)\n",
        "n2=len(m)\n",
        "min_len=n1\n",
        "inter=[]\n",
        "if n2<n1:\n",
        "  min_len=n2\n",
        "for i in range(n1):\n",
        "  for j in range(n2):\n",
        "    if l[i]==m[j] and visit[j]==0:\n",
        "      inter.append(m[j])\n",
        "      visit[j]==1\n",
        "      break\n",
        "  if m[j]>l[i]:\n",
        "    break\n",
        "print(inter)\n"
      ]
    },
    {
      "cell_type": "code",
      "execution_count": null,
      "metadata": {
        "colab": {
          "base_uri": "https://localhost:8080/"
        },
        "id": "mYPAVY2mk9Zq",
        "outputId": "705ced11-0d84-456f-ffd2-0144ac092f78"
      },
      "outputs": [
        {
          "name": "stdout",
          "output_type": "stream",
          "text": [
            "[1, 1, 2, 3, 3, 4]\n"
          ]
        }
      ],
      "source": [
        "# Method 3\n",
        "A=[1,1,2,3,3,4,5]\n",
        "B=[1,1,2,2,3,3,3,4]\n",
        "n=len(A)\n",
        "m=len(B)\n",
        "i=0\n",
        "j=0\n",
        "ans=[]\n",
        "while(i<n and j<m):\n",
        "  if A[i]<B[j]:\n",
        "    i+=1\n",
        "  elif B[j]<A[i]:\n",
        "    j+=1\n",
        "  else:\n",
        "    ans.append(A[i])\n",
        "    i+=1\n",
        "    j+=1\n",
        "print(ans)\n",
        "\n"
      ]
    },
    {
      "cell_type": "markdown",
      "metadata": {
        "id": "yyz8ire9_C7D"
      },
      "source": [
        "# **Find the missing number in given array**"
      ]
    },
    {
      "cell_type": "code",
      "execution_count": null,
      "metadata": {
        "colab": {
          "base_uri": "https://localhost:8080/"
        },
        "id": "ozZ8W6sBk9co",
        "outputId": "bb961f62-6676-44b4-dcd3-a1da1f3e7136"
      },
      "outputs": [
        {
          "name": "stdout",
          "output_type": "stream",
          "text": [
            "max number : 5\n",
            "3\n"
          ]
        }
      ],
      "source": [
        "# Method 1\n",
        "n=int(input(\"max number : \"))\n",
        "arr=[1,2,4,5]\n",
        "for i in range(1,n+1):\n",
        "  if i in arr:\n",
        "    pass\n",
        "  else:\n",
        "    print(i)\n"
      ]
    },
    {
      "cell_type": "code",
      "execution_count": null,
      "metadata": {
        "colab": {
          "base_uri": "https://localhost:8080/"
        },
        "id": "3OHkZX6ak9f-",
        "outputId": "91da91e1-6a5e-4fcf-8171-6948c4e8e93f"
      },
      "outputs": [
        {
          "name": "stdout",
          "output_type": "stream",
          "text": [
            "Enter Max Number : 5\n",
            "5\n",
            "{0: 0, 1: 1, 2: 1, 3: 1, 4: 1, 5: 0}\n"
          ]
        }
      ],
      "source": [
        "# Method 2\n",
        "# Using Has concept\n",
        "n=int(input(\"Enter Max Number : \"))\n",
        "arr=[1,2,3,4]\n",
        "d={}\n",
        "for i in range(n+1):\n",
        "  d[i]=0\n",
        "for i in range(len(arr)):\n",
        "  d[arr[i]]=1\n",
        "for j in range(1,n+1):\n",
        "  if d[j]==0:\n",
        "    print(j)\n",
        "print(d)"
      ]
    },
    {
      "cell_type": "code",
      "execution_count": null,
      "metadata": {
        "colab": {
          "base_uri": "https://localhost:8080/"
        },
        "id": "-Mv_tH6gk9im",
        "outputId": "a2299363-0188-456f-806a-9a373000c173"
      },
      "outputs": [
        {
          "name": "stdout",
          "output_type": "stream",
          "text": [
            "Enter Max Number : 5\n",
            "Missing Number is :  5.0\n"
          ]
        }
      ],
      "source": [
        "# Method 3\n",
        "# Optimal solution\n",
        "n=int(input(\"Enter Max Number : \"))\n",
        "arr=[1,2,3,4]\n",
        "sum=n*(n+1)/2\n",
        "s=0\n",
        "for i in range(len(arr)):\n",
        "  s+=arr[i]\n",
        "print(\"Missing Number is : \",sum-s)"
      ]
    },
    {
      "cell_type": "code",
      "execution_count": null,
      "metadata": {
        "colab": {
          "base_uri": "https://localhost:8080/"
        },
        "id": "cPBA_IXMk9le",
        "outputId": "1b0a37a7-4aee-4720-92e3-5516c96bbb1f"
      },
      "outputs": [
        {
          "name": "stdout",
          "output_type": "stream",
          "text": [
            "Enter Max Number : 5\n",
            "3\n"
          ]
        }
      ],
      "source": [
        "# Method 4\n",
        "# Optimal solution\n",
        "n=int(input(\"Enter Max Number : \"))\n",
        "arr=[1,2,4,5]\n",
        "xor1=0\n",
        "for i in range(len(arr)):\n",
        "  xor1=xor1^arr[i]\n",
        "xor2=0\n",
        "for j in range(1,n+1):\n",
        "  xor2=xor2^j\n",
        "print(xor1^xor2)\n"
      ]
    },
    {
      "cell_type": "code",
      "execution_count": null,
      "metadata": {
        "colab": {
          "base_uri": "https://localhost:8080/"
        },
        "id": "vXMlamyuk9oy",
        "outputId": "46a70ac2-df7b-4670-bf94-cac4e15cb31b"
      },
      "outputs": [
        {
          "name": "stdout",
          "output_type": "stream",
          "text": [
            "Enter Max Number : 5\n",
            "3\n"
          ]
        }
      ],
      "source": [
        "# Method 5\n",
        "# optimal solution\n",
        "n=int(input(\"Enter Max Number : \"))\n",
        "arr=[1,2,4,5]\n",
        "xor1=0\n",
        "xor2=0\n",
        "for i in range(len(arr)):\n",
        "  xor1=xor1^arr[i]\n",
        "  xor2=xor2^(i+1)\n",
        "xor2=xor2^n\n",
        "print(xor1^xor2)\n"
      ]
    },
    {
      "cell_type": "markdown",
      "metadata": {
        "id": "gRZNoDvhQOr1"
      },
      "source": [
        "# **Maximun Consecutive Ones**"
      ]
    },
    {
      "cell_type": "code",
      "execution_count": null,
      "metadata": {
        "colab": {
          "base_uri": "https://localhost:8080/"
        },
        "id": "BO-h4t4qk9sG",
        "outputId": "061b6a30-7649-4d38-a1a2-8bc85fc16061"
      },
      "outputs": [
        {
          "name": "stdout",
          "output_type": "stream",
          "text": [
            "{1: 7, 0: 2}\n"
          ]
        }
      ],
      "source": [
        "arr=[1,1,0,1,1,1,0,1,1]\n",
        "d={}\n",
        "for i in range(len(arr)):\n",
        "  if arr[i] not in d:\n",
        "    d[arr[i]]=1\n",
        "  else:\n",
        "     d[arr[i]]+=1\n",
        "print(d)\n"
      ]
    },
    {
      "cell_type": "code",
      "execution_count": null,
      "metadata": {
        "colab": {
          "base_uri": "https://localhost:8080/"
        },
        "id": "4RhZnuknk9vA",
        "outputId": "1d954332-f74a-4009-e742-1f8720c4ad1b"
      },
      "outputs": [
        {
          "name": "stdout",
          "output_type": "stream",
          "text": [
            "3\n"
          ]
        }
      ],
      "source": [
        "arr=[1,1,0,1,1,1,0,1,1]\n",
        "count=0\n",
        "m=0\n",
        "for i in range(len(arr)):\n",
        "  if arr[i]==1:\n",
        "    count+=1\n",
        "    m=m if m>count else count\n",
        "  else:\n",
        "    count=0\n",
        "print(m)\n"
      ]
    },
    {
      "cell_type": "code",
      "execution_count": null,
      "metadata": {
        "colab": {
          "base_uri": "https://localhost:8080/"
        },
        "id": "8a7-Qi8vk9xx",
        "outputId": "8268dbd7-584a-4513-c945-6354c57bc374"
      },
      "outputs": [
        {
          "name": "stdout",
          "output_type": "stream",
          "text": [
            "3\n"
          ]
        }
      ],
      "source": [
        "arr=[1,1,0,1,1,1,0,1,1]\n",
        "count=0\n",
        "m=[]\n",
        "for i in range(len(arr)):\n",
        "  if arr[i]==1:\n",
        "    count+=1\n",
        "    m.append(count)\n",
        "  else:\n",
        "    count=0\n",
        "print(max(m))"
      ]
    },
    {
      "cell_type": "markdown",
      "metadata": {
        "id": "XPXbVW0DY1G5"
      },
      "source": [
        "# **Find that number which occures only ones**"
      ]
    },
    {
      "cell_type": "code",
      "execution_count": null,
      "metadata": {
        "colab": {
          "base_uri": "https://localhost:8080/"
        },
        "id": "xqJA5oTGZmNP",
        "outputId": "d0a9b17f-5cad-47aa-e054-225823bf77a1"
      },
      "outputs": [
        {
          "name": "stdout",
          "output_type": "stream",
          "text": [
            "5\n"
          ]
        }
      ],
      "source": [
        "# Brute TC O(n**2)\n",
        "arr=[1,1,2,2,3,3,4,4,5]\n",
        "for i in range(len(arr)):\n",
        "  num=arr[i]\n",
        "  count=0\n",
        "  for j in range(len(arr)):\n",
        "    if num==arr[j]:\n",
        "      count+=1\n",
        "  if count==1:\n",
        "    print(num)\n"
      ]
    },
    {
      "cell_type": "code",
      "execution_count": null,
      "metadata": {
        "colab": {
          "base_uri": "https://localhost:8080/"
        },
        "id": "exrFziUKccYh",
        "outputId": "0e5f1d04-10ee-4bb1-f9e9-91840a07b430"
      },
      "outputs": [
        {
          "name": "stdout",
          "output_type": "stream",
          "text": [
            "5\n"
          ]
        }
      ],
      "source": [
        "# Better using hassing TC O(2n)\n",
        "arr=[1,1,2,2,3,3,4,4,5]\n",
        "m=max(arr)\n",
        "d={}\n",
        "for i in range(1,m+1):\n",
        "  d[i]=0\n",
        "for i in range(len(arr)):\n",
        "  d[arr[i]]+=1\n",
        "if d[arr[i]]==1:\n",
        "  print(arr[i])"
      ]
    },
    {
      "cell_type": "code",
      "execution_count": null,
      "metadata": {
        "colab": {
          "base_uri": "https://localhost:8080/"
        },
        "id": "LbuboTKhk90-",
        "outputId": "93654f0f-e597-4cf2-bcf4-4a2d8380aa40"
      },
      "outputs": [
        {
          "name": "stdout",
          "output_type": "stream",
          "text": [
            "2\n"
          ]
        }
      ],
      "source": [
        "# Optimal\n",
        "# TC O(n)\n",
        "arr=[1,1,2,3,3,4,4]\n",
        "xor=0\n",
        "for i in range(len(arr)):\n",
        "  xor=xor^arr[i]\n",
        "print(xor)\n"
      ]
    },
    {
      "cell_type": "markdown",
      "metadata": {
        "id": "UExwAVEzETpH"
      },
      "source": [
        "# **Two Sum Problem**"
      ]
    },
    {
      "cell_type": "code",
      "execution_count": null,
      "metadata": {
        "colab": {
          "base_uri": "https://localhost:8080/"
        },
        "id": "-_IEgB5Ok93t",
        "outputId": "66ac8dac-ba7f-4e13-eebb-495a4a893462"
      },
      "outputs": [
        {
          "name": "stdout",
          "output_type": "stream",
          "text": [
            "Enter the to find if sum of two number is possible : 14\n",
            "yes\n",
            "yes\n"
          ]
        }
      ],
      "source": [
        "# Method 1\n",
        "# TC O(n^2)\n",
        "arr=[2,6,5,8,11]\n",
        "n=int(input(\"Enter the to find if sum of two number is possible : \"))\n",
        "sum=0\n",
        "for i in range(len(arr)):\n",
        "  for j in range(len(arr)):\n",
        "    if i==j:\n",
        "      pass\n",
        "    if arr[i]+arr[j]==n:\n",
        "      print(\"yes\")\n",
        "      break\n",
        "    else:\n",
        "      pass"
      ]
    },
    {
      "cell_type": "code",
      "execution_count": null,
      "metadata": {
        "colab": {
          "base_uri": "https://localhost:8080/"
        },
        "id": "BTByjkyuupbl",
        "outputId": "ceab28f4-77d6-44a9-8c22-592a2b871dfc"
      },
      "outputs": [
        {
          "name": "stdout",
          "output_type": "stream",
          "text": [
            "Enter the to find if sum of two number is possible : 14\n",
            "{2: 0}\n",
            "{2: 0, 6: 1}\n",
            "{2: 0, 6: 1, 5: 2}\n",
            "{2: 0, 6: 1, 5: 2, 8: 3}\n",
            "yes\n",
            "1 3\n"
          ]
        }
      ],
      "source": [
        "# Method 2 use Has Map\n",
        "#TC : O(nlog(n))\n",
        "arr=[2,6,5,8,11]\n",
        "n=int(input(\"Enter the to find if sum of two number is possible : \"))\n",
        "d={}\n",
        "for i in range(len(arr)):\n",
        "  a=arr[i]\n",
        "  more=n-a\n",
        "  d[a]=i\n",
        "  if more in d:\n",
        "    print('yes')\n",
        "    print(d[more],i) # return the index value of the number which sum is equal to given number.\n",
        "    break\n",
        "else:\n",
        "  print('No')\n",
        "\n"
      ]
    },
    {
      "cell_type": "code",
      "execution_count": null,
      "metadata": {
        "colab": {
          "base_uri": "https://localhost:8080/"
        },
        "id": "kUFwE6tlk9-I",
        "outputId": "1821264f-0810-4cc2-cf50-70d910ee24cd"
      },
      "outputs": [
        {
          "name": "stdout",
          "output_type": "stream",
          "text": [
            "Enter the to find if sum of two number is possible : 14\n",
            "Yes\n"
          ]
        }
      ],
      "source": [
        "# Same method like above without using map\n",
        "arr=[2,6,5,8,11]\n",
        "n=int(input(\"Enter the to find if sum of two number is possible : \"))\n",
        "res='No'\n",
        "for i in arr:\n",
        "  if n - i in arr:\n",
        "    res='Yes'\n",
        "    break\n",
        "print(res)"
      ]
    },
    {
      "cell_type": "code",
      "execution_count": null,
      "metadata": {
        "colab": {
          "base_uri": "https://localhost:8080/"
        },
        "id": "--8qCsGyk-BU",
        "outputId": "7d78ee4e-593f-4526-f4d4-acb65852e172"
      },
      "outputs": [
        {
          "name": "stdout",
          "output_type": "stream",
          "text": [
            "Enter the to find if sum of two number is possible : 14\n",
            "Yes\n",
            "2 3\n"
          ]
        }
      ],
      "source": [
        "#Method 3\n",
        "arr=[2,6,5,8,11]\n",
        "n=int(input(\"Enter the to find if sum of two number is possible : \"))\n",
        "arr.sort()\n",
        "left=0\n",
        "right=len(arr)-1\n",
        "while left<right:\n",
        "  sum=arr[left]+arr[right]\n",
        "  if sum==n:\n",
        "    print(\"Yes\")\n",
        "    print(left,right)\n",
        "    break\n",
        "  elif sum<n:\n",
        "    left+=1\n",
        "  else:\n",
        "    right-=1\n",
        "else:\n",
        "  print(\"No\")"
      ]
    },
    {
      "cell_type": "code",
      "execution_count": null,
      "metadata": {
        "colab": {
          "base_uri": "https://localhost:8080/"
        },
        "id": "l3qNLJywk-Ec",
        "outputId": "f565f5d3-e48b-4e65-9465-be65aa0f68b0"
      },
      "outputs": [
        {
          "name": "stdout",
          "output_type": "stream",
          "text": [
            "i\n",
            "i\n"
          ]
        }
      ],
      "source": [
        "s=\"Interview\"\n",
        "s=s.lower()\n",
        "d={}\n",
        "for i in s:\n",
        "  if i not in d:\n",
        "    d[i]=1\n",
        "  else:\n",
        "    d[i]+=1\n",
        "for k,v in d.items():\n",
        "  if v ==2:\n",
        "    print(k)\n",
        "    break\n",
        "\n",
        "Keymax = max(d, key= lambda x: d[x])\n",
        "print(Keymax)"
      ]
    },
    {
      "cell_type": "code",
      "execution_count": null,
      "metadata": {
        "colab": {
          "base_uri": "https://localhost:8080/"
        },
        "id": "J7P9fBdek-Hj",
        "outputId": "d4fce228-1096-43e1-8fa5-55e7dd22f78f"
      },
      "outputs": [
        {
          "name": "stdout",
          "output_type": "stream",
          "text": [
            "a\n"
          ]
        }
      ],
      "source": [
        "max_key = next(iter(d))\n",
        "# Iterate over the keys in the dictionary\n",
        "for key in d:\n",
        "    # If the value of the current key is greater than the value of max_key, update max_key\n",
        "    if d[key] > d[max_key]:\n",
        "        max_key = key\n",
        "\n",
        "# Print the key with the maximum value\n",
        "print(max_key)"
      ]
    },
    {
      "cell_type": "code",
      "execution_count": null,
      "metadata": {
        "colab": {
          "base_uri": "https://localhost:8080/"
        },
        "id": "81xa9g9-lg4l",
        "outputId": "a71c74a7-408b-4d75-9773-9f698bd81ddb"
      },
      "outputs": [
        {
          "name": "stdout",
          "output_type": "stream",
          "text": [
            "bansh\n",
            "['bansh', 'bah', 'adurp']\n"
          ]
        }
      ],
      "source": [
        "s=\"banshbahadurpatel\"\n",
        "result=[]\n",
        "temp_s=''\n",
        "for i in s:\n",
        "  if i in temp_s:\n",
        "    result.append(temp_s)\n",
        "    temp_s=i\n",
        "  else:\n",
        "    temp_s+=i\n",
        "print(max(result))\n",
        "print(result)"
      ]
    },
    {
      "cell_type": "markdown",
      "metadata": {
        "id": "D1AXNmzbmwyg"
      },
      "source": [
        "# **Sort an array of 0's 1's & 2's**"
      ]
    },
    {
      "cell_type": "code",
      "execution_count": null,
      "metadata": {
        "colab": {
          "base_uri": "https://localhost:8080/"
        },
        "id": "ciyxCCCmk-Ks",
        "outputId": "bd9847f5-2218-407b-9707-0406d7739d55"
      },
      "outputs": [
        {
          "name": "stdout",
          "output_type": "stream",
          "text": [
            "[0, 0, 0, 1, 1, 2, 2]\n"
          ]
        }
      ],
      "source": [
        "# Method 1\n",
        "#TC O(n^2)\n",
        "arr=[0,1,2,2,0,1,0]\n",
        "n=len(arr)\n",
        "for i in range(n):\n",
        "  min=i\n",
        "  for j in range(i+1,n):\n",
        "    if arr[min]>arr[j]:\n",
        "      min=j\n",
        "    temp=arr[min]\n",
        "    arr[min]=arr[i]\n",
        "    arr[i]=temp\n",
        "print(arr)\n"
      ]
    },
    {
      "cell_type": "markdown",
      "metadata": {
        "id": "LJWJWJs3xdCN"
      },
      "source": [
        "**# Dutch National flag Algorithem**"
      ]
    },
    {
      "cell_type": "code",
      "execution_count": null,
      "metadata": {
        "colab": {
          "base_uri": "https://localhost:8080/"
        },
        "id": "AoOS8vPnk-Nm",
        "outputId": "1b6eb13f-51ff-4fad-ef67-1a5030eeac80"
      },
      "outputs": [
        {
          "name": "stdout",
          "output_type": "stream",
          "text": [
            "[0, 0, 0, 0, 0, 0, 1, 1, 1, 1, 1, 2, 2, 2, 2]\n"
          ]
        }
      ],
      "source": [
        "# Method 3 optimal\n",
        "# Dutch National flag Algorithem\n",
        "#TC O(n)\n",
        "arr=[0,1,2,0,1,0,2,2,2,1,1,1,0,0,0]\n",
        "n=len(arr)\n",
        "low=0\n",
        "mid=0\n",
        "high=n-1\n",
        "while mid<=high:\n",
        "  if arr[mid]==0:\n",
        "    temp=arr[low]\n",
        "    arr[low]=arr[mid]\n",
        "    arr[mid]=temp\n",
        "    low+=1\n",
        "    mid+=1\n",
        "  elif arr[mid]==1:\n",
        "    mid+=1\n",
        "  else:\n",
        "    temp=arr[mid]\n",
        "    arr[mid]=arr[high]\n",
        "    arr[high]=temp\n",
        "    high-=1\n",
        "print(arr)\n",
        "\n"
      ]
    },
    {
      "cell_type": "markdown",
      "metadata": {
        "id": "mGVJwhvzMAF8"
      },
      "source": [
        "# **Majority Element Gratter or equal to n/2**"
      ]
    },
    {
      "cell_type": "code",
      "execution_count": null,
      "metadata": {
        "colab": {
          "base_uri": "https://localhost:8080/"
        },
        "id": "y7amAg7ok-Q5",
        "outputId": "7364b9e4-0c41-4400-eb9f-93878bfa650d"
      },
      "outputs": [
        {
          "name": "stdout",
          "output_type": "stream",
          "text": [
            "3\n"
          ]
        }
      ],
      "source": [
        "# Method 1\n",
        "# TC O(n^2)\n",
        "arr=[2,2,3,3,1,2,2,1,3,3,3]\n",
        "n=len(arr)\n",
        "for i in range(n):\n",
        "  count=0\n",
        "  for j in range(n):\n",
        "    if arr[i]==arr[j]:\n",
        "      count+=1\n",
        "if count>=n//2:\n",
        "  print(arr[i])\n",
        "else:\n",
        "  print(\"None\")"
      ]
    },
    {
      "cell_type": "code",
      "execution_count": null,
      "metadata": {
        "colab": {
          "base_uri": "https://localhost:8080/"
        },
        "id": "xPm_DbP6k-T1",
        "outputId": "ae05a2d6-60dd-4401-97b0-65ed4640daf2"
      },
      "outputs": [
        {
          "name": "stdout",
          "output_type": "stream",
          "text": [
            "3\n"
          ]
        }
      ],
      "source": [
        "# Method 2 Use of has\n",
        "# TC O(nlog(n))+ O(n)\n",
        "arr=[2,2,3,3,1,2,2,1,3,3,3]\n",
        "n=len(arr)\n",
        "d={}\n",
        "for i in arr:\n",
        "  if i not in d:\n",
        "    d[i]=1\n",
        "  else:\n",
        "    d[i]+=1\n",
        "for k,v in d.items():\n",
        "  if v>=n//2:\n",
        "    print(k)"
      ]
    },
    {
      "cell_type": "markdown",
      "metadata": {
        "id": "rocKe-1TSlUR"
      },
      "source": [
        "**# Moore's Voting Algorithm**"
      ]
    },
    {
      "cell_type": "code",
      "execution_count": null,
      "metadata": {
        "colab": {
          "base_uri": "https://localhost:8080/"
        },
        "id": "qKLyoULvk-XA",
        "outputId": "523363c1-ddab-4fe5-9598-7325b48e4b88"
      },
      "outputs": [
        {
          "name": "stdout",
          "output_type": "stream",
          "text": [
            "3\n"
          ]
        }
      ],
      "source": [
        "# Method 3\n",
        "# Moore's Voting Algorithm\n",
        "# TC : O(n)+O(n)\n",
        "arr=[2,2,3,3,1,2,2,1,3,3,3]\n",
        "n=len(arr)\n",
        "count=0\n",
        "for i in range(n):\n",
        "  if count==0:\n",
        "    ele=arr[i]\n",
        "  elif arr[i]==ele:\n",
        "    count+=1\n",
        "  else:\n",
        "    count-=1\n",
        "count1=0\n",
        "for i in range(n):\n",
        "  if arr[i]==ele:\n",
        "    count1+=1\n",
        "if count1>=n//2:\n",
        "  print(ele)\n",
        "else:\n",
        "  print(\"None\")"
      ]
    },
    {
      "cell_type": "markdown",
      "metadata": {
        "id": "-CtI5Nn1tEvY"
      },
      "source": [
        "# **Maximum Subarray Sum**"
      ]
    },
    {
      "cell_type": "code",
      "execution_count": null,
      "metadata": {
        "colab": {
          "base_uri": "https://localhost:8080/"
        },
        "id": "6sOu00KXSSd6",
        "outputId": "db048bf0-f37d-41cd-8a04-7d9a2ba79a62"
      },
      "outputs": [
        {
          "name": "stdout",
          "output_type": "stream",
          "text": [
            "7\n"
          ]
        }
      ],
      "source": [
        "#Method 1 Maximum Sum of sub array\n",
        "# TC O(n^3)\n",
        "\n",
        "import math\n",
        "arr=[-2,-3,4,-1,-2,1,5,-3]\n",
        "n=len(arr)\n",
        "result=[]\n",
        "m=-math.inf\n",
        "for i in range(n):\n",
        "  for j in range(i,n):\n",
        "    sum=0\n",
        "    for k in range(i,j+1):\n",
        "      sum+=arr[k]\n",
        "      result.append(sum)\n",
        "print(max(result))"
      ]
    },
    {
      "cell_type": "code",
      "execution_count": null,
      "metadata": {
        "colab": {
          "base_uri": "https://localhost:8080/"
        },
        "id": "Yn4DPX-uk-dI",
        "outputId": "139f3fcd-6961-45cf-b71c-c26a04be4f22"
      },
      "outputs": [
        {
          "name": "stdout",
          "output_type": "stream",
          "text": [
            "7\n"
          ]
        }
      ],
      "source": [
        "#Method 2\n",
        "# TC O(n^2)\n",
        "arr=[-2,-3,4,-1,-2,1,5,-3]\n",
        "n=len(arr)\n",
        "result=[]\n",
        "for i in range(n):\n",
        "  sum=0\n",
        "  for j in range(i,n):\n",
        "    sum+=arr[j]\n",
        "    result.append(sum)\n",
        "print(max(result))\n"
      ]
    },
    {
      "cell_type": "markdown",
      "metadata": {
        "id": "GL0zMSDWLGDQ"
      },
      "source": [
        "**Kadane's Algorithm**"
      ]
    },
    {
      "cell_type": "code",
      "execution_count": null,
      "metadata": {
        "colab": {
          "base_uri": "https://localhost:8080/"
        },
        "id": "arG3R7rmk-gW",
        "outputId": "32711092-020e-4a08-c648-c562729134d4"
      },
      "outputs": [
        {
          "name": "stdout",
          "output_type": "stream",
          "text": [
            "7\n"
          ]
        }
      ],
      "source": [
        "# Method 1\n",
        "# TC O(n), SC:O(1)\n",
        "# Kadane's Algorithm\n",
        "import math\n",
        "arr=[-2,-3,4,-1,-2,1,5,-3]\n",
        "n=len(arr)\n",
        "sum=0\n",
        "maxi=-math.inf\n",
        "for i in range(n):\n",
        "  sum+=arr[i]\n",
        "  if sum>maxi:\n",
        "    maxi=sum\n",
        "  elif sum<0:\n",
        "    sum=0\n",
        "else:\n",
        "  print(maxi)\n"
      ]
    },
    {
      "cell_type": "code",
      "execution_count": null,
      "metadata": {
        "colab": {
          "base_uri": "https://localhost:8080/"
        },
        "id": "iA41vD6sk-jZ",
        "outputId": "84915132-929c-4683-ae01-c1766c308519"
      },
      "outputs": [
        {
          "name": "stdout",
          "output_type": "stream",
          "text": [
            "7\n",
            "Subarray index Number is :  2 6\n",
            "Sub array is :  [4, -1, -2, 1, 5]\n"
          ]
        }
      ],
      "source": [
        "# Print Subarray also\n",
        "# TC O(n), SC:O(1)\n",
        "# Kadane's Algorithm\n",
        "import math\n",
        "arr=[-2,-3,4,-1,-2,1,5,-3]\n",
        "n=len(arr)\n",
        "sum=0\n",
        "maxi=-math.inf\n",
        "start_i=-1\n",
        "end_i=-1\n",
        "for i in range(n):\n",
        "  sum+=arr[i]\n",
        "  if sum==0:\n",
        "    start=i\n",
        "  if sum>maxi:\n",
        "    maxi=sum\n",
        "    start_i=start\n",
        "    end_i=i\n",
        "  elif sum<0:\n",
        "    sum=0\n",
        "else:\n",
        "  print(maxi)\n",
        "print(\"Subarray index Number is : \",start_i,end_i)\n",
        "print(\"Sub array is : \",arr[start_i:end_i+1])"
      ]
    },
    {
      "cell_type": "code",
      "execution_count": null,
      "metadata": {
        "colab": {
          "base_uri": "https://localhost:8080/"
        },
        "id": "idGm6AjZk-md",
        "outputId": "a3ed245c-9fb6-423f-cd2c-2d6a30fcd31e"
      },
      "outputs": [
        {
          "name": "stdout",
          "output_type": "stream",
          "text": [
            "Count 2\n"
          ]
        }
      ],
      "source": [
        "# Subarray problem type 2\n",
        "arr=[1,2,1,3,2]\n",
        "n=len(arr)\n",
        "m=2\n",
        "d=3\n",
        "count=0\n",
        "for i in range(n-m+1):\n",
        "  sum=0\n",
        "  for j in range(i,m+i):\n",
        "    sum+=arr[j]\n",
        "  if sum==d:\n",
        "    count+=1\n",
        "print(\"Count\",count)\n"
      ]
    },
    {
      "cell_type": "markdown",
      "metadata": {
        "id": "L-Afqv7i0-1-"
      },
      "source": [
        "# **Rearrange Array Elements by Sign**"
      ]
    },
    {
      "cell_type": "code",
      "execution_count": null,
      "metadata": {
        "colab": {
          "base_uri": "https://localhost:8080/"
        },
        "id": "4Ewu_vOwk-sG",
        "outputId": "50396281-dc38-490a-d236-d720ddea61af"
      },
      "outputs": [
        {
          "name": "stdout",
          "output_type": "stream",
          "text": [
            "[3, -2, 1, -5, 2, -4]\n"
          ]
        }
      ],
      "source": [
        "# Method 1 Positive and Negative element are equal\n",
        "# TC: O(n)+O(n/2)\n",
        "# SC: O(n)\n",
        "arr=[3,1,-2,-5,2,-4]\n",
        "n=len(arr)\n",
        "pos=[]\n",
        "neg=[]\n",
        "for i in range(n):\n",
        "  if arr[i]>=0:\n",
        "    pos.append(arr[i])\n",
        "  else:\n",
        "    neg.append(arr[i])\n",
        "for i in range(n//2):\n",
        "  arr[i*2]=pos[i]\n",
        "  arr[i*2+1]=neg[i]\n",
        "print(arr)\n"
      ]
    },
    {
      "cell_type": "code",
      "execution_count": null,
      "metadata": {
        "colab": {
          "base_uri": "https://localhost:8080/"
        },
        "id": "m2JsuIAfk-vJ",
        "outputId": "c1a1369f-3175-4306-aed8-3302def5e456"
      },
      "outputs": [
        {
          "name": "stdout",
          "output_type": "stream",
          "text": [
            "[3, -2, 1, -5, 2, -4]\n"
          ]
        }
      ],
      "source": [
        "# Method 2\n",
        "# TC: O(n)\n",
        "# SC: O(n)\n",
        "arr=[3,1,-2,-5,2,-4]\n",
        "n=len(arr)\n",
        "result=[]\n",
        "pos_index=0\n",
        "neg_index=1\n",
        "for i in range(n):\n",
        "  if arr[i]>0:\n",
        "    result.insert(pos_index,arr[i])\n",
        "    pos_index+=2\n",
        "  else:\n",
        "    result.insert(neg_index,arr[i])\n",
        "    neg_index+=2\n",
        "print(result)\n"
      ]
    },
    {
      "cell_type": "code",
      "execution_count": null,
      "metadata": {
        "colab": {
          "base_uri": "https://localhost:8080/"
        },
        "id": "U05FdABjk-yU",
        "outputId": "604556f7-ef93-4638-ad63-a9ec95ccea89"
      },
      "outputs": [
        {
          "name": "stdout",
          "output_type": "stream",
          "text": [
            "[2, -1, 3, -3, 4, 1]\n"
          ]
        }
      ],
      "source": [
        "# Method 1 Positive and Negative element are not equal\n",
        "# TC: O(n)+O(n)\n",
        "# SC: O(n)\n",
        "arr=[-1,2,3,4,-3,1]\n",
        "n=len(arr)\n",
        "pos=[]\n",
        "neg=[]\n",
        "res=[]\n",
        "for i in range(n):\n",
        "  if arr[i]>0:\n",
        "    pos.append(arr[i])\n",
        "  else:\n",
        "    neg.append(arr[i])\n",
        "if len(pos)>len(neg):\n",
        "  for i in range(len(neg)):\n",
        "    res.insert(i*2,pos[i])\n",
        "    res.insert(i*2+1,neg[i])\n",
        "  remain_ele=len(neg)*2\n",
        "  for i in range(len(neg),len(pos)):\n",
        "    res.insert(remain_ele,pos[i])\n",
        "    remain_ele+=1\n",
        "else:\n",
        "  for i in range(len(pos)):\n",
        "    res.insert(i*2,pos[i])\n",
        "    res.insert(i*2+1,neg[i])\n",
        "  remain_ele=len(pos)*2\n",
        "  for i in range(len(pos),len(neg)):\n",
        "    res.insert(remain_ele,neg[i])\n",
        "    remain_ele+=1\n",
        "print(res)\n",
        "\n"
      ]
    },
    {
      "cell_type": "markdown",
      "metadata": {
        "id": "2d2p4JYhFX0L"
      },
      "source": [
        "# **Leaders in an Array**\n",
        "\n",
        "Every element from right is smaller than the current number"
      ]
    },
    {
      "cell_type": "code",
      "execution_count": null,
      "metadata": {
        "colab": {
          "base_uri": "https://localhost:8080/"
        },
        "id": "RO5Usrc7k-1r",
        "outputId": "b3843861-7902-4643-8147-7362d08de7dd"
      },
      "outputs": [
        {
          "name": "stdout",
          "output_type": "stream",
          "text": [
            "[22, 12, 6]\n"
          ]
        }
      ],
      "source": [
        "# Method 1\n",
        "# TC: O(n^2)\n",
        "# SC: O(n)\n",
        "arr=[10,22,12,3,0,6]\n",
        "n=len(arr)\n",
        "result=[]\n",
        "for i in range(n):\n",
        "   leader=True\n",
        "   for j in range(i+1,n):\n",
        "      if arr[j]>arr[i]:\n",
        "         leader=False\n",
        "         break\n",
        "   if leader==True:\n",
        "      result.append(arr[i])\n",
        "print(result)\n"
      ]
    },
    {
      "cell_type": "code",
      "execution_count": null,
      "metadata": {
        "colab": {
          "base_uri": "https://localhost:8080/"
        },
        "id": "co6F0-Mkk-5G",
        "outputId": "a3003d70-6e32-4590-c0b3-d69819e62a51"
      },
      "outputs": [
        {
          "name": "stdout",
          "output_type": "stream",
          "text": [
            "[6, 12, 22]\n"
          ]
        }
      ],
      "source": [
        "# Method 1\n",
        "# TC: O(n)\n",
        "# SC: O(n)\n",
        "import math\n",
        "arr=[10,22,12,3,0,6]\n",
        "n=len(arr)\n",
        "result=[]\n",
        "maxi=-math.inf\n",
        "for i in range(n-1,-1,-1):\n",
        "  if arr[i]>maxi:\n",
        "    result.append(arr[i])\n",
        "  maxi=max(maxi,arr[i])\n",
        "print(result)\n"
      ]
    },
    {
      "cell_type": "markdown",
      "metadata": {
        "id": "31-Ia2ccvYsV"
      },
      "source": [
        "# **Longest Consecutive Sequence**"
      ]
    },
    {
      "cell_type": "code",
      "execution_count": null,
      "metadata": {
        "colab": {
          "base_uri": "https://localhost:8080/"
        },
        "id": "ABioS_x-vInu",
        "outputId": "164ed67a-3d7d-4a74-80d7-732d129381dc"
      },
      "outputs": [
        {
          "name": "stdout",
          "output_type": "stream",
          "text": [
            "4\n"
          ]
        }
      ],
      "source": [
        "# Method 1 Longest Consecutive Sequence means like This 1,2,3,4\n",
        "#TC: O(n^2)\n",
        "#SC: O(1)\n",
        "def ls(arr,num):\n",
        "  for i in arr:\n",
        "    if num in arr:\n",
        "      return True\n",
        "  return False\n",
        "\n",
        "arr=[102,4,100,1,101,3,2,1,1]\n",
        "n=len(arr)\n",
        "for i in range(n):\n",
        "  count=1\n",
        "  x=arr[i]\n",
        "  while ls(arr,x+1)==True:\n",
        "    count+=1\n",
        "    x=x+1\n",
        "print(count)"
      ]
    },
    {
      "cell_type": "code",
      "execution_count": null,
      "metadata": {
        "colab": {
          "base_uri": "https://localhost:8080/"
        },
        "id": "tScMToThvIqM",
        "outputId": "512cf224-32d0-4176-f2d9-3ab9f41464c0"
      },
      "outputs": [
        {
          "name": "stdout",
          "output_type": "stream",
          "text": [
            "4\n"
          ]
        }
      ],
      "source": [
        "# Method 2\n",
        "# TC : O(nlog(n))+O(n)\n",
        "# SC:O(N)\n",
        "import math\n",
        "arr=[102,4,100,1,101,3,2,1,1,2,2,3,3,4]\n",
        "n=len(arr)\n",
        "arr.sort()\n",
        "count=0\n",
        "longest=1\n",
        "last_smallest=-math.inf\n",
        "for i in range(n):\n",
        "  if arr[i]-1==last_smallest:\n",
        "    count+=1\n",
        "    last_smallest=arr[i]\n",
        "  elif last_smallest!=arr[i]:\n",
        "    count=1\n",
        "    last_smallest=arr[i]\n",
        "  longest=max(longest,count)\n",
        "print(longest)\n"
      ]
    },
    {
      "cell_type": "code",
      "execution_count": null,
      "metadata": {
        "colab": {
          "base_uri": "https://localhost:8080/"
        },
        "id": "a4WhGAzMvIuh",
        "outputId": "c6239f0c-c8df-4aea-fec1-f3cf4a5ca9cc"
      },
      "outputs": [
        {
          "name": "stdout",
          "output_type": "stream",
          "text": [
            "4\n"
          ]
        }
      ],
      "source": [
        "# Method 3\n",
        "# TC :in best case:O(3n)\n",
        "# SC:O(N)\n",
        "longest=1\n",
        "arr=[102,4,100,1,101,3,2,1,1,2,2,3,3,4]\n",
        "set_arr=set(arr)\n",
        "for i in set_arr:\n",
        "  if i-1 in set_arr:\n",
        "    count=1\n",
        "    x=i\n",
        "    while x in set_arr !=True:\n",
        "      count+=1\n",
        "      x+=1\n",
        "    longest=max(longest,count)\n",
        "print(longest)"
      ]
    },
    {
      "cell_type": "markdown",
      "metadata": {
        "id": "cpQ8NCkgizg5"
      },
      "source": [
        "# **Set Matrix Zeroes | O(1) Space Approach**"
      ]
    },
    {
      "cell_type": "code",
      "execution_count": null,
      "metadata": {
        "colab": {
          "base_uri": "https://localhost:8080/"
        },
        "id": "2CsrrnlFvI3o",
        "outputId": "15dc8093-2a0e-473b-90ae-e3e4397c33d3"
      },
      "outputs": [
        {
          "name": "stdout",
          "output_type": "stream",
          "text": [
            "[1, 0, 0, 1]\n",
            "[0, 0, 0, 0]\n",
            "[0, 0, 0, 0]\n",
            "[1, 0, 0, 1]\n"
          ]
        }
      ],
      "source": [
        "# Method 1\n",
        "# TC :O(n^3)\n",
        "# SC:O(1)\n",
        "arr=[[1,1,1,1],\n",
        "     [1,0,0,1],\n",
        "     [1,1,0,1],\n",
        "     [1,1,1,1]]\n",
        "n=len(arr)\n",
        "def makeRow(row):\n",
        "  for col in range(n):\n",
        "    if arr[row][col]!=0:\n",
        "      arr[row][col]=-1\n",
        "def makeCol(col):\n",
        "  for row in range(n):\n",
        "    if arr[row][col]!=0:\n",
        "      arr[row][col]=-1\n",
        "\n",
        "for row in range(n):\n",
        "  for col in range(n):\n",
        "    if arr[row][col]==0:\n",
        "      makeRow(row)\n",
        "      makeCol(col)\n",
        "\n",
        "for i in range(n):\n",
        "  for j in range(n):\n",
        "    if arr[i][j]==-1:\n",
        "      arr[i][j]=0\n",
        "for i in arr:\n",
        "  print(i)\n",
        "\n",
        "\n"
      ]
    },
    {
      "cell_type": "code",
      "execution_count": null,
      "metadata": {
        "colab": {
          "base_uri": "https://localhost:8080/"
        },
        "id": "HIoOYuCpvI6-",
        "outputId": "3875d491-702c-439e-df9a-afc782343c08"
      },
      "outputs": [
        {
          "name": "stdout",
          "output_type": "stream",
          "text": [
            "[0, 0, 0, 0] [0, 0, 0, 0]\n",
            "[1, 0, 0, 1]\n",
            "[0, 0, 0, 0]\n",
            "[0, 0, 0, 0]\n",
            "[1, 0, 0, 1]\n"
          ]
        }
      ],
      "source": [
        "# Method 1\n",
        "# TC :O(n^2)\n",
        "# SC:O(n)+O(m)\n",
        "\n",
        "arr=[[1,1,1,1],\n",
        "     [1,0,0,1],\n",
        "     [1,1,0,1],\n",
        "     [1,1,1,1]]\n",
        "n=len(arr)\n",
        "row = [0] * n  # row array\n",
        "col = [0] * n\n",
        "for i in range(n):\n",
        "  for j in range(n):\n",
        "    if arr[i][j]==0:\n",
        "      row[i]=1\n",
        "      col[j]=1\n",
        "\n",
        "for i in range(n):\n",
        "  for j in range(n):\n",
        "    if row[i] or col[j]==1:\n",
        "      arr[i][j]=0\n",
        "for i in arr:\n",
        "  print(i)\n"
      ]
    },
    {
      "cell_type": "markdown",
      "metadata": {
        "id": "Ozkli6mKQf_k"
      },
      "source": [
        "# **Rotate Matrix/Image by 90 Degrees**"
      ]
    },
    {
      "cell_type": "code",
      "execution_count": null,
      "metadata": {
        "colab": {
          "base_uri": "https://localhost:8080/"
        },
        "id": "7_WdtFtxvJAN",
        "outputId": "b522da99-d31f-4cd0-dafa-be311001c419"
      },
      "outputs": [
        {
          "name": "stdout",
          "output_type": "stream",
          "text": [
            "[13, 9, 5, 1]\n",
            "[14, 10, 6, 2]\n",
            "[15, 11, 7, 3]\n",
            "[16, 12, 8, 4]\n",
            "\n"
          ]
        }
      ],
      "source": [
        "# Method 1\n",
        "# TC: O(n^2)\n",
        "# SC: O(n^2)\n",
        "arr=[[1,2,3,4],\n",
        "     [5,6,7,8],\n",
        "     [9,10,11,12],\n",
        "     [13,14,15,16]]\n",
        "n=len(arr)\n",
        "ans=[[0]*4 for i in range(4)]\n",
        "for row in range(n):\n",
        "  for col in range(n):\n",
        "    ans[col][n-row-1]=arr[row][col]\n",
        "for i in ans:\n",
        "  print(i)\n"
      ]
    },
    {
      "cell_type": "code",
      "execution_count": null,
      "metadata": {
        "colab": {
          "base_uri": "https://localhost:8080/"
        },
        "id": "MPPlPqzovJFu",
        "outputId": "df8f8daa-fe24-4c6b-aa90-523839282daf"
      },
      "outputs": [
        {
          "name": "stdout",
          "output_type": "stream",
          "text": [
            "[13, 9, 5, 1]\n",
            "[14, 10, 6, 2]\n",
            "[15, 11, 7, 3]\n",
            "[16, 12, 8, 4]\n"
          ]
        }
      ],
      "source": [
        "# Method 2\n",
        "# TC: O(n/2)*(n/2)+O(n/2)\n",
        "# SC: O(1)\n",
        "arr=[[1,2,3,4],\n",
        "     [5,6,7,8],\n",
        "     [9,10,11,12],\n",
        "     [13,14,15,16]]\n",
        "n=len(arr)\n",
        "# Take transpose of matrix\n",
        "for i in range(0,n-1):\n",
        "  for j in range(i+1,n):\n",
        "    temp=arr[i][j]\n",
        "    arr[i][j]=arr[j][i]\n",
        "    arr[j][i]=temp\n",
        "# Take reverse\n",
        "#res=[sorted(idx,reverse=True) for idx in arr]\n",
        "\n",
        "# Another way to sort list of list\n",
        "for i in arr:\n",
        "  i.sort(reverse=True)\n",
        "\n",
        "for i in arr:\n",
        "  print(i)"
      ]
    },
    {
      "cell_type": "markdown",
      "metadata": {
        "id": "r0RRwbhq7cNY"
      },
      "source": [
        "# **Spiral Traversal of a Matrix | Spiral Matrix**"
      ]
    },
    {
      "cell_type": "code",
      "execution_count": null,
      "metadata": {
        "colab": {
          "base_uri": "https://localhost:8080/"
        },
        "id": "Mscl8KMUvJIR",
        "outputId": "44f616a1-9a8d-408b-f0ff-325e0f52fcc2"
      },
      "outputs": [
        {
          "name": "stdout",
          "output_type": "stream",
          "text": [
            "1\n",
            "2\n",
            "3\n",
            "4\n",
            "8\n",
            "12\n",
            "16\n",
            "15\n",
            "14\n",
            "13\n",
            "9\n",
            "5\n",
            "6\n",
            "7\n",
            "11\n",
            "10\n"
          ]
        }
      ],
      "source": [
        "# Method 2\n",
        "# TC: O(n*m)\n",
        "# SC: O(n*m)\n",
        "arr=[[1,2,3,4],\n",
        "     [5,6,7,8],\n",
        "     [9,10,11,12],\n",
        "     [13,14,15,16]]\n",
        "n=len(arr)\n",
        "m=len(arr[0])\n",
        "left=0\n",
        "right=m-1\n",
        "top=0\n",
        "bottom=n-1\n",
        "ans=[]\n",
        "while top<=bottom and left<=right:\n",
        "  # Right\n",
        "  for i in range(left,right+1):\n",
        "    ans.append(arr[top][i])\n",
        "  top+=1\n",
        "  #Top\n",
        "  for i in range(top,bottom+1):\n",
        "    ans.append(arr[i][right])\n",
        "  right-=1\n",
        "  #left\n",
        "  if top<=bottom:\n",
        "    for i in range(right,left-1,-1):\n",
        "      ans.append(arr[bottom][i])\n",
        "    bottom-=1\n",
        "  # Bottom\n",
        "  if left<=right:\n",
        "    for i in range(bottom,top-1,-1):\n",
        "      ans.append(arr[i][left])\n",
        "    left+=1\n",
        "for i in ans:\n",
        "  print(i)"
      ]
    },
    {
      "cell_type": "markdown",
      "metadata": {
        "id": "aO0-CsdCCugN"
      },
      "source": [
        "# **Count Subarray sum Equals K**\n",
        "Contigous part of sub array"
      ]
    },
    {
      "cell_type": "code",
      "execution_count": null,
      "metadata": {
        "colab": {
          "base_uri": "https://localhost:8080/"
        },
        "id": "oDGgVF9vvJLn",
        "outputId": "eb785e37-aa1a-495e-b5a1-170e0e23f197"
      },
      "outputs": [
        {
          "name": "stdout",
          "output_type": "stream",
          "text": [
            "[] 8\n"
          ]
        }
      ],
      "source": [
        "# Method 1\n",
        "# TC: O(n^3)\n",
        "# SC: O(1)\n",
        "arr=[1,2,3,-3,1,1,1,4,2,-3]\n",
        "n=len(arr)\n",
        "count=0\n",
        "given_sum=3\n",
        "for i in range(n):\n",
        "  for j in range(i,n):\n",
        "    sum=0\n",
        "    for k in range(i,j+1):\n",
        "      sum+=arr[k]\n",
        "    if sum==given_sum:\n",
        "      count+=1\n",
        "print(count)\n",
        "\n"
      ]
    },
    {
      "cell_type": "code",
      "execution_count": null,
      "metadata": {
        "colab": {
          "base_uri": "https://localhost:8080/"
        },
        "id": "2QK4ZHZivJPi",
        "outputId": "4b9ea113-1e7d-43df-810c-9332ef9eb232"
      },
      "outputs": [
        {
          "name": "stdout",
          "output_type": "stream",
          "text": [
            "8\n"
          ]
        }
      ],
      "source": [
        "# Method 2\n",
        "# TC: O(n^2)\n",
        "# SC: O(1)\n",
        "arr=[1,2,3,-3,1,1,1,4,2,-3]\n",
        "n=len(arr)\n",
        "count=0\n",
        "given_sum=3\n",
        "for i in range(n):\n",
        "  sum=0\n",
        "  for j in range(i,n):\n",
        "    sum+=arr[j]\n",
        "    if sum==given_sum:\n",
        "      count+=1\n",
        "print(count)"
      ]
    },
    {
      "cell_type": "code",
      "execution_count": null,
      "metadata": {
        "colab": {
          "base_uri": "https://localhost:8080/"
        },
        "id": "QyGGTQhVvJUW",
        "outputId": "c4c9052a-0a64-487d-c2d2-7c83a33ab037"
      },
      "outputs": [
        {
          "name": "stdout",
          "output_type": "stream",
          "text": [
            "Input the number to find the sum: 3\n",
            "8\n"
          ]
        }
      ],
      "source": [
        "# Method 2\n",
        "# TC: O(nlog(n))\n",
        "# SC: O(n)\n",
        "k = int(input('Input the number to find the sum: '))\n",
        "arr = [1, 2, 3, -3, 1, 1, 1, 4, 2, -3]\n",
        "n = len(arr)\n",
        "d = {0: 1}\n",
        "preSum = 0  # Initialize preSum to the value of arr[0]\n",
        "count = 0\n",
        "for i in range(n):\n",
        "    preSum += arr[i]\n",
        "    remove = preSum - k\n",
        "    count += d.get(remove, 0)  # Use get() method to avoid KeyError\n",
        "    d[preSum] = d.get(preSum, 0)+1\n",
        "print(count)"
      ]
    },
    {
      "cell_type": "markdown",
      "metadata": {
        "id": "z-RMcIj2T1Uj"
      },
      "source": [
        "# **Pascal Triangle | Finding nCr in minimal time**"
      ]
    },
    {
      "cell_type": "code",
      "execution_count": null,
      "metadata": {
        "colab": {
          "base_uri": "https://localhost:8080/"
        },
        "id": "7BVmX0j7vJXS",
        "outputId": "6be454c8-3b11-483a-a303-0d8680851e3b"
      },
      "outputs": [
        {
          "data": {
            "text/plain": [
              "5.0"
            ]
          },
          "execution_count": 4,
          "metadata": {},
          "output_type": "execute_result"
        }
      ],
      "source": [
        "# Type 1 Problem given row and col number find the value at the row and col value\n",
        "# the we simple calculate (row-1) C (col-1)\n",
        "# Like if row=6,and col=5 the calculate 5C4\n",
        "def calnCr(n,r):\n",
        "  num=1\n",
        "  den=1\n",
        "  for i in range(r):\n",
        "    num=num*(n-i)\n",
        "    den=den*(r-i)\n",
        "    res=num/den\n",
        "  return res\n",
        "calnCr(5,4)"
      ]
    },
    {
      "cell_type": "code",
      "execution_count": null,
      "metadata": {
        "colab": {
          "base_uri": "https://localhost:8080/"
        },
        "id": "Su1tqmUEvJZt",
        "outputId": "21a168d7-f897-41e7-baee-4e72d7f00d5c"
      },
      "outputs": [
        {
          "name": "stdout",
          "output_type": "stream",
          "text": [
            "1\n",
            "5\n",
            "10\n",
            "10\n",
            "5\n",
            "1\n"
          ]
        }
      ],
      "source": [
        "# Type 2 : Problem given row number generate the sequence of number for that columnn\n",
        "# Row number=6\n",
        "# TC:O(n*r)\n",
        "n=6\n",
        "def calnCr(n,r):\n",
        "  num=1\n",
        "  den=1\n",
        "  res=1\n",
        "  for i in range(r):\n",
        "    num=num*(n-i)\n",
        "    den=den*(r-i)\n",
        "    res=num//den\n",
        "  return res\n",
        "for col in range(1,n+1):\n",
        "  print(calnCr(n-1,col-1))"
      ]
    },
    {
      "cell_type": "code",
      "execution_count": null,
      "metadata": {
        "colab": {
          "base_uri": "https://localhost:8080/"
        },
        "id": "mZx5-VrivJci",
        "outputId": "3971b905-831c-49d0-fc47-d3a3f0942405"
      },
      "outputs": [
        {
          "name": "stdout",
          "output_type": "stream",
          "text": [
            "[1, 5, 10, 10, 5, 1]\n"
          ]
        }
      ],
      "source": [
        "# Type 2 Method 2\n",
        "ans=[1]\n",
        "res=1\n",
        "n=6\n",
        "for i in range(1,n):\n",
        "  res=res*(n-i)\n",
        "  res=res//i\n",
        "  ans.append(res)\n",
        "print(ans)"
      ]
    },
    {
      "cell_type": "code",
      "execution_count": null,
      "metadata": {
        "colab": {
          "base_uri": "https://localhost:8080/"
        },
        "id": "Bjq_xqUevJfQ",
        "outputId": "95b67807-059e-4fae-adab-1fd11fc38f6f"
      },
      "outputs": [
        {
          "name": "stdout",
          "output_type": "stream",
          "text": [
            "[[1], [1, 1], [1, 2, 1], [1, 3, 3, 1], [1, 4, 6, 4, 1], [1, 5, 10, 10, 5, 1]]\n"
          ]
        }
      ],
      "source": [
        "# Type 3 given n print pascal trangle\n",
        "#TC: O(n*n*n)\n",
        "n=6\n",
        "ans=[]\n",
        "for row in range(1,n+1):\n",
        "  temp=[]\n",
        "  for col in range(1,row+1):\n",
        "    temp.append(calnCr(row-1,col-1))\n",
        "  ans.append(temp)\n",
        "print(ans)\n"
      ]
    },
    {
      "cell_type": "code",
      "execution_count": null,
      "metadata": {
        "colab": {
          "base_uri": "https://localhost:8080/"
        },
        "id": "BOTBviH0vJiJ",
        "outputId": "5ddcc738-f12c-4ab7-ce5b-077bbc292fec"
      },
      "outputs": [
        {
          "data": {
            "text/plain": [
              "[[1], [1, 1], [1, 2, 1], [1, 3, 3, 1], [1, 4, 6, 4, 1], [1, 5, 10, 10, 5, 1]]"
            ]
          },
          "execution_count": 29,
          "metadata": {},
          "output_type": "execute_result"
        }
      ],
      "source": [
        "\n",
        "# Type 3 Method 3\n",
        "def genRow(n):\n",
        "  res=1\n",
        "  ansRow=[1]\n",
        "  for i in range(1,n):\n",
        "    res=res*(n-i)\n",
        "    res=res//i\n",
        "    ansRow.append(res)\n",
        "  return ansRow\n",
        "def pascalTrangle(n):\n",
        "  ans=[]\n",
        "  for i in range(1,n+1):\n",
        "    ans.append(genRow(i))\n",
        "  return ans\n",
        "pascalTrangle(6)\n",
        "\n"
      ]
    },
    {
      "cell_type": "markdown",
      "metadata": {
        "id": "StZumTcp8Ge0"
      },
      "source": [
        "# **Majority Element II**"
      ]
    },
    {
      "cell_type": "code",
      "execution_count": null,
      "metadata": {
        "colab": {
          "base_uri": "https://localhost:8080/"
        },
        "id": "eOovNyAIvJmd",
        "outputId": "3bbe8c11-a43c-4a3b-fc67-c74833d33da0"
      },
      "outputs": [
        {
          "name": "stdout",
          "output_type": "stream",
          "text": [
            "1\n",
            "2\n"
          ]
        }
      ],
      "source": [
        "# Find the number which occure more than n/3\n",
        "# Method 1\n",
        "# TC: O(n^2)\n",
        "# SC: O(1)\n",
        "arr=[1,1,1,3,3,2,2,2]\n",
        "n=len(arr)\n",
        "gt=n//3\n",
        "for i in range(n):\n",
        "  count=0\n",
        "  for j in range(i,n):\n",
        "    if arr[i]==arr[j]:\n",
        "      count+=1\n",
        "  if count>gt:\n",
        "    print(arr[i])\n"
      ]
    },
    {
      "cell_type": "code",
      "execution_count": null,
      "metadata": {
        "colab": {
          "base_uri": "https://localhost:8080/"
        },
        "id": "9n2EzpfpvJot",
        "outputId": "113c5d66-896e-464e-8c69-458006c84541"
      },
      "outputs": [
        {
          "name": "stdout",
          "output_type": "stream",
          "text": [
            "1\n",
            "2\n"
          ]
        }
      ],
      "source": [
        "# Method 2\n",
        "# TC: O(nlog(n))\n",
        "# SC: O(n)\n",
        "\n",
        "arr=[1,1,1,3,3,2,2,2]\n",
        "n=len(arr)\n",
        "gt=n//3\n",
        "d={}\n",
        "for i in arr:\n",
        "  if i not in d:\n",
        "    d[i]=1\n",
        "  else:\n",
        "    d[i]+=1\n",
        "for k,v in d.items():\n",
        "  if v>gt:\n",
        "    print(k)"
      ]
    },
    {
      "cell_type": "markdown",
      "metadata": {
        "id": "RbewyU9IWYPU"
      },
      "source": [
        "# **Sum 3 number of given array is Zero**"
      ]
    },
    {
      "cell_type": "code",
      "execution_count": null,
      "metadata": {
        "colab": {
          "base_uri": "https://localhost:8080/"
        },
        "id": "PDoW-2gxvJq-",
        "outputId": "75fb8342-a8a3-4643-af44-9c8c07e80bf8"
      },
      "outputs": [
        {
          "name": "stdout",
          "output_type": "stream",
          "text": [
            "{(-1, 0, 1), (-1, -1, 2)}\n"
          ]
        }
      ],
      "source": [
        "# Method 1\n",
        "# TC:O(n^3)\n",
        "# SC:O(number of triplet)\n",
        "arr=[-1,0,1,2,-1,-4]\n",
        "n=len(arr)\n",
        "ans=set()\n",
        "for i in range(n):\n",
        "  for j in range(i+1,n):\n",
        "    for k in range(j+1,n):\n",
        "      if arr[i]+arr[j]+arr[k]==0:\n",
        "        temp=[arr[i],arr[j],arr[k]]\n",
        "        temp.sort()\n",
        "        ans.add(tuple(temp))\n",
        "print(ans)"
      ]
    },
    {
      "cell_type": "code",
      "execution_count": null,
      "metadata": {
        "colab": {
          "base_uri": "https://localhost:8080/"
        },
        "id": "1ZtE9iX3vJtv",
        "outputId": "c1721f6b-5d37-4d22-830c-9df3d8fa72a5"
      },
      "outputs": [
        {
          "name": "stdout",
          "output_type": "stream",
          "text": [
            "{(-1, 0, 1), (-1, -1, 2)}\n"
          ]
        }
      ],
      "source": [
        "# Method 2\n",
        "# TC:O(n^2 log(size of set))\n",
        "# SC:O(n) + nlog(n)\n",
        "arr=[-1,0,1,2,-1,-4]\n",
        "n=len(arr)\n",
        "ans=set()\n",
        "for i in range(n):\n",
        "  d=set()\n",
        "  for j in range(i+1,n):\n",
        "    third=-(arr[i]+arr[j])\n",
        "    if third in d:\n",
        "      temp=[arr[i],arr[j],third]\n",
        "      temp.sort()\n",
        "      ans.add(tuple(temp))\n",
        "    d.add(arr[j])\n",
        "print(ans)"
      ]
    },
    {
      "cell_type": "code",
      "execution_count": null,
      "metadata": {
        "colab": {
          "base_uri": "https://localhost:8080/"
        },
        "id": "GOiH2HDXvJwE",
        "outputId": "a25ac4b5-79ce-435e-d36d-d96690b99221"
      },
      "outputs": [
        {
          "name": "stdout",
          "output_type": "stream",
          "text": [
            "{(-1, 0, 1), (-1, -1, 2)}\n"
          ]
        }
      ],
      "source": [
        "# Method 3\n",
        "# TC:O(nlog(n)+n^2)\n",
        "# SC:O(number of unique triplet)\n",
        "arr=[-1,0,1,2,-1,-4]\n",
        "arr.sort()\n",
        "n=len(arr)\n",
        "ans=set()\n",
        "for i in range(n):\n",
        "  if i>0 and arr[i]==arr[i-1]:\n",
        "    continue\n",
        "  j=i+1\n",
        "  k=n-1\n",
        "  while(j<k):\n",
        "    sum=arr[i]+arr[j]+arr[k]\n",
        "    if sum<0:\n",
        "      j+=1\n",
        "    elif sum>0:\n",
        "      k-=1\n",
        "    else:\n",
        "      temp=[arr[i],arr[j],arr[k]]\n",
        "      ans.add(tuple(temp))\n",
        "      j+=1\n",
        "      k-=1\n",
        "      while(j<k and arr[j]==arr[j-1]):\n",
        "        j+=1\n",
        "      while(j<k and arr[k]==arr[k+1]):\n",
        "        k+=1\n",
        "print(ans)\n"
      ]
    },
    {
      "cell_type": "markdown",
      "metadata": {
        "id": "b2oWsVZ3FkF-"
      },
      "source": [
        "# **Sum 4 number of given array is Zero**"
      ]
    },
    {
      "cell_type": "code",
      "execution_count": null,
      "metadata": {
        "colab": {
          "base_uri": "https://localhost:8080/"
        },
        "id": "iKZ3xrNBvJzh",
        "outputId": "9d1235e2-9b38-4fb3-d55c-667dbab31487"
      },
      "outputs": [
        {
          "name": "stdout",
          "output_type": "stream",
          "text": [
            "{(-1, -1, 0, 2)}\n"
          ]
        }
      ],
      "source": [
        "# Method 1\n",
        "# TC:O(n^4)\n",
        "# SC:O(number of ans)\n",
        "arr=[-1,0,1,2,-1,-4]\n",
        "n=len(arr)\n",
        "target=0\n",
        "ans=set()\n",
        "for i in range(n):\n",
        "  for j in range(i+1,n):\n",
        "    for k in range(j+1,n):\n",
        "      for l in range(k+1,n):\n",
        "        if arr[i]+arr[j]+arr[k]+arr[l]==target:\n",
        "          temp=[arr[i],arr[j],arr[k],arr[l]]\n",
        "          temp.sort()\n",
        "          ans.add(tuple(temp))\n",
        "print(ans)"
      ]
    },
    {
      "cell_type": "code",
      "execution_count": null,
      "metadata": {
        "colab": {
          "base_uri": "https://localhost:8080/"
        },
        "id": "n-FQ_UcKvJ3d",
        "outputId": "468b0f5f-2a14-4084-dfa8-1ffdf412530d"
      },
      "outputs": [
        {
          "name": "stdout",
          "output_type": "stream",
          "text": [
            "{(-1, -1, 0, 2)}\n"
          ]
        }
      ],
      "source": [
        "# Method 2\n",
        "# TC:O(n^3 + log(set dependent))\n",
        "# SC:O(n) + O(unique quad)*2\n",
        "arr=[-1,0,1,2,-1,-4]\n",
        "n=len(arr)\n",
        "target=0\n",
        "ans=set()\n",
        "for i in range(n):\n",
        "  for j in range(i+1,n):\n",
        "    s=set()\n",
        "    for k in range(j+1,n):\n",
        "      fourth=target-(arr[i]+arr[j]+arr[k])\n",
        "      if fourth in s:\n",
        "        temp=[arr[i],arr[j],arr[k],fourth]\n",
        "        temp.sort()\n",
        "        ans.add(tuple(temp))\n",
        "      s.add(arr[k])\n",
        "print(ans)"
      ]
    },
    {
      "cell_type": "markdown",
      "metadata": {
        "id": "F5eqokUejk4w"
      },
      "source": [
        "# **Largest Subarray with Zero Sum**\n",
        "Important"
      ]
    },
    {
      "cell_type": "code",
      "execution_count": null,
      "metadata": {
        "colab": {
          "base_uri": "https://localhost:8080/"
        },
        "id": "LQWrPyvpCYHN",
        "outputId": "d0d7607d-6759-443b-e859-107b51873ea5"
      },
      "outputs": [
        {
          "name": "stdout",
          "output_type": "stream",
          "text": [
            "5\n"
          ]
        }
      ],
      "source": [
        "# TC : O(n^2+O(len(subarray)))\n",
        "arr=[15,-2,2,-8,1,7,10,23]\n",
        "n=len(arr)\n",
        "subarray=[]\n",
        "for i in range(n):\n",
        "  for j in range(i+1,n+1):\n",
        "    subarray.append(arr[i:j])\n",
        "res=[]\n",
        "for i in subarray:\n",
        "  if sum(i)==0:\n",
        "    res.append(len(i))\n",
        "print(max(res))\n"
      ]
    },
    {
      "cell_type": "code",
      "execution_count": null,
      "metadata": {
        "colab": {
          "base_uri": "https://localhost:8080/"
        },
        "id": "5REPd55SvJ8V",
        "outputId": "642866d2-e405-4e14-e93e-12bcd5331052"
      },
      "outputs": [
        {
          "name": "stdout",
          "output_type": "stream",
          "text": [
            "5\n"
          ]
        }
      ],
      "source": [
        "# Put the previous sum in hasmap and find the length\n",
        "#TC O(n)+nlogn\n",
        "arr=[15,-2,2,-8,1,7,10,23]\n",
        "n=len(arr)\n",
        "maxi=0\n",
        "sum=0\n",
        "d={}\n",
        "for i in range(n):\n",
        "  sum=sum+arr[i]\n",
        "  if sum==0:\n",
        "    maxi=i+1\n",
        "  else:\n",
        "    if d.get(sum)!=None:\n",
        "      maxi=max(maxi,i-d.get(sum))\n",
        "    else:\n",
        "      d[sum]=i\n",
        "print(maxi)\n",
        "\n",
        "\n"
      ]
    },
    {
      "cell_type": "markdown",
      "metadata": {
        "id": "YBB6IOTgs2fj"
      },
      "source": [
        "# **Number of Subarrays with xor K**"
      ]
    },
    {
      "cell_type": "code",
      "execution_count": null,
      "metadata": {
        "colab": {
          "base_uri": "https://localhost:8080/"
        },
        "id": "kHu36gfjvJ-8",
        "outputId": "1bef87b6-5e42-4cd4-bea2-3b299066e4ef"
      },
      "outputs": [
        {
          "name": "stdout",
          "output_type": "stream",
          "text": [
            "[4, 2]\n",
            "[4, 2, 2, 6, 4]\n",
            "[2, 2, 6]\n",
            "[6]\n"
          ]
        }
      ],
      "source": [
        "# Method 1\n",
        "\n",
        "arr=[4,2,2,6,4]\n",
        "n=len(arr)\n",
        "sub_arr=[]\n",
        "x=0\n",
        "for i in range(n):\n",
        "  for j in range(i+1,n+1):\n",
        "    sub_arr.append(arr[i:j])\n",
        "#print(sub_arr)\n",
        "for lst in sub_arr:\n",
        "  Xor=0\n",
        "  for i in lst:\n",
        "    Xor=Xor^i\n",
        "    #print(Xor)\n",
        "  if Xor==6:\n",
        "    print(lst)\n",
        "\n"
      ]
    },
    {
      "cell_type": "code",
      "execution_count": null,
      "metadata": {
        "colab": {
          "base_uri": "https://localhost:8080/"
        },
        "id": "aWYyfBCivKFC",
        "outputId": "2aae0fc7-03ee-45f2-f909-0636389b2bb3"
      },
      "outputs": [
        {
          "name": "stdout",
          "output_type": "stream",
          "text": [
            "4\n"
          ]
        }
      ],
      "source": [
        "# Method 2\n",
        "arr=[4,2,2,6,4]\n",
        "n=len(arr)\n",
        "count=0\n",
        "for i in range(n):\n",
        "  for j in range(i,n):\n",
        "    Xor=0\n",
        "    for k in range(i,j+1):\n",
        "      Xor=Xor^arr[k]\n",
        "    if Xor==6:\n",
        "      count+=1\n",
        "print(count)\n"
      ]
    },
    {
      "cell_type": "code",
      "execution_count": null,
      "metadata": {
        "colab": {
          "base_uri": "https://localhost:8080/"
        },
        "id": "ITc5usCpvKHv",
        "outputId": "46666ed6-baad-4446-df10-9dac1277c803"
      },
      "outputs": [
        {
          "name": "stdout",
          "output_type": "stream",
          "text": [
            "4\n"
          ]
        }
      ],
      "source": [
        "# Method 3\n",
        "# TC:O(n^2)\n",
        "arr=[4,2,2,6,4]\n",
        "n=len(arr)\n",
        "count=0\n",
        "for i in range(n):\n",
        "  Xor=0\n",
        "  for j in range(i,n):\n",
        "    Xor=Xor^arr[j]\n",
        "    if Xor==6:\n",
        "      count+=1\n",
        "print(count)"
      ]
    },
    {
      "cell_type": "code",
      "execution_count": null,
      "metadata": {
        "colab": {
          "base_uri": "https://localhost:8080/"
        },
        "id": "QURwcmguDi1N",
        "outputId": "0141c91d-fc83-40ad-9ff3-b4058aca9187"
      },
      "outputs": [
        {
          "name": "stdout",
          "output_type": "stream",
          "text": [
            "4\n"
          ]
        }
      ],
      "source": [
        "from collections import defaultdict\n",
        "arr=[4,2,2,6,4]\n",
        "n=len(arr)\n",
        "xr=0\n",
        "d=defaultdict(int)\n",
        "d[xr]=1\n",
        "cnt=0\n",
        "k=6\n",
        "for i in range(n):\n",
        "  xr=xr^arr[i]\n",
        "  x=xr^k\n",
        "  cnt+=d[x]\n",
        "  d[xr]+=1\n",
        "print(cnt)\n"
      ]
    },
    {
      "cell_type": "code",
      "execution_count": null,
      "metadata": {
        "colab": {
          "base_uri": "https://localhost:8080/"
        },
        "id": "CjcBFwia9uab",
        "outputId": "7bb1c155-aee7-4dda-d69e-ee001fa0cedb"
      },
      "outputs": [
        {
          "name": "stdout",
          "output_type": "stream",
          "text": [
            "4\n"
          ]
        }
      ],
      "source": [
        "# Method 4\n",
        "# TC: O(n)+log(n)\n",
        "# SC: O(n)\n",
        "arr=[4,2,2,6,4]\n",
        "n=len(arr)\n",
        "xr=0\n",
        "k=6\n",
        "d={}\n",
        "for i in range(n):\n",
        "  xr=xr^arr[i]\n",
        "  if xr^k == k:\n",
        "    d[xr^k]+=1\n",
        "  else:\n",
        "    d[xr^k]=i\n",
        "# print(d)\n",
        "for k,v in d.items():\n",
        "  if k==0:\n",
        "    print(v)"
      ]
    },
    {
      "cell_type": "markdown",
      "metadata": {
        "id": "0Mb_EMCK3lR5"
      },
      "source": [
        "# **Generate all Subarry of an Array**\n",
        "Important"
      ]
    },
    {
      "cell_type": "code",
      "execution_count": null,
      "metadata": {
        "colab": {
          "base_uri": "https://localhost:8080/"
        },
        "id": "6WdgW8evvKK0",
        "outputId": "f018f0ec-7692-402e-e90e-d0e628dfab2d"
      },
      "outputs": [
        {
          "name": "stdout",
          "output_type": "stream",
          "text": [
            "[[], [1], [1, 2], [1, 2, 3], [2], [2, 3], [3]]\n"
          ]
        }
      ],
      "source": [
        "# Method 1\n",
        "# TC: O(n^3)\n",
        "arr=[1,2,3]\n",
        "n=len(arr)\n",
        "sub_arr=[[]]\n",
        "for i in range(n):\n",
        "  for j in range(i,n):\n",
        "    sub_arr.append(arr[i:j+1])\n",
        "print(sub_arr)\n"
      ]
    },
    {
      "cell_type": "code",
      "execution_count": null,
      "metadata": {
        "colab": {
          "base_uri": "https://localhost:8080/"
        },
        "id": "AHdbuA7X6BAY",
        "outputId": "cf53fb04-8ff6-4df0-c8ec-541528019ae9"
      },
      "outputs": [
        {
          "data": {
            "text/plain": [
              "[[1], [1, 2], [1, 2, 3], [2], [2, 3], [3]]"
            ]
          },
          "execution_count": 2,
          "metadata": {},
          "output_type": "execute_result"
        }
      ],
      "source": [
        "# Method 2\n",
        "# TC: O(n^3)\n",
        "lst=[1,2,3]\n",
        "[lst[i:j] for i in range(len(lst)) for j in range(i + 1, len(lst) + 1)]"
      ]
    },
    {
      "cell_type": "code",
      "execution_count": null,
      "metadata": {
        "colab": {
          "base_uri": "https://localhost:8080/"
        },
        "id": "vBxH_K-q6VsB",
        "outputId": "dc2da55c-9b2a-4abd-9bee-93c01ad5187a"
      },
      "outputs": [
        {
          "name": "stdout",
          "output_type": "stream",
          "text": [
            "[]\n",
            "[3]\n",
            "[2]\n",
            "[2, 3]\n",
            "[1]\n",
            "[1, 3]\n",
            "[1, 2]\n",
            "[1, 2, 3]\n"
          ]
        }
      ],
      "source": [
        "def sublists(lst, index=0, current=[]):\n",
        "    if index == len(lst):\n",
        "        print(current)\n",
        "        return\n",
        "    sublists(lst, index+1, current)\n",
        "    sublists(lst, index+1, current + [lst[index]])\n",
        "\n",
        "lst = [1, 2, 3]\n",
        "sublists(lst)"
      ]
    },
    {
      "cell_type": "code",
      "execution_count": null,
      "metadata": {
        "colab": {
          "base_uri": "https://localhost:8080/"
        },
        "id": "P5wHGtJLvKNK",
        "outputId": "0afb0249-2184-4f99-ec17-9bdaabe404cb"
      },
      "outputs": [
        {
          "output_type": "stream",
          "name": "stdout",
          "text": [
            "1\n",
            "12\n",
            "123\n",
            "2\n",
            "23\n",
            "3\n"
          ]
        }
      ],
      "source": [
        "# Method 2\n",
        "# TC: O(n^3)\n",
        "arr=[1,2,3]\n",
        "n=len(arr)\n",
        "sub_arr=[]\n",
        "for i in range(n):\n",
        "  for j in range(i,n):\n",
        "    for k in range(i,j+1):\n",
        "      print(arr[k],end='')\n",
        "    print()\n"
      ]
    },
    {
      "cell_type": "code",
      "execution_count": null,
      "metadata": {
        "colab": {
          "base_uri": "https://localhost:8080/"
        },
        "id": "YmN-jx8qvKQx",
        "outputId": "d580c364-3eac-4246-b911-a47709ff0f63"
      },
      "outputs": [
        {
          "name": "stdout",
          "output_type": "stream",
          "text": [
            "123\n",
            "23\n",
            "3\n"
          ]
        }
      ],
      "source": [
        "# This method is applicable when we perform any operation of subarray\n",
        "# TC: O(n^3)\n",
        "arr=[1,2,3]\n",
        "n=len(arr)\n",
        "sub_arr=[]\n",
        "for i in range(n):\n",
        "  for j in range(i,n):\n",
        "    print(arr[j],end='')\n",
        "  print()"
      ]
    },
    {
      "cell_type": "markdown",
      "metadata": {
        "id": "T7CjkbOee5l-"
      },
      "source": [
        "# **Merge Overlapping Intervals**"
      ]
    },
    {
      "cell_type": "code",
      "execution_count": null,
      "metadata": {
        "colab": {
          "base_uri": "https://localhost:8080/"
        },
        "id": "EzCeB8fWvKTS",
        "outputId": "a0f27507-587d-4dd8-d277-c16e048ad63b"
      },
      "outputs": [
        {
          "name": "stdout",
          "output_type": "stream",
          "text": [
            "[(1, 6), (8, 11), (15, 18)]\n"
          ]
        }
      ],
      "source": [
        "# Method 1\n",
        "# TC: nlog(n)+O(2n)\n",
        "# SC: O(n)\n",
        "arr=[(1,3),(2,6),(8,9),(9,11),(8,10),(2,4),(15,18),(16,17)]\n",
        "arr.sort()\n",
        "n=len(arr)\n",
        "ans=[]\n",
        "for i in range(n):\n",
        "  start=arr[i][0]\n",
        "  end=arr[i][1]\n",
        "  if ans and end<=ans[-1][1]:\n",
        "    continue\n",
        "  for j in range(i+1,n):\n",
        "    if arr[j][0]<=end:\n",
        "      end=max(end,arr[j][1])\n",
        "    else:\n",
        "      break\n",
        "  ans.append((start,end))\n",
        "print(ans)\n",
        "\n",
        "\n"
      ]
    },
    {
      "cell_type": "code",
      "execution_count": null,
      "metadata": {
        "colab": {
          "base_uri": "https://localhost:8080/"
        },
        "id": "c_zWHQz2vKW5",
        "outputId": "cfa2d557-562c-4d2f-c192-670335544bdf"
      },
      "outputs": [
        {
          "name": "stdout",
          "output_type": "stream",
          "text": [
            "[[1, 6], [8, 11], [15, 18]]\n"
          ]
        }
      ],
      "source": [
        "# Method 2\n",
        "# TC: nlog(n)+O(n)\n",
        "# SC: O(n)\n",
        "arr=[[1,3],[2,6],[8,9],[9,11],[8,10],[2,4],[15,18],[16,17]]\n",
        "arr.sort()\n",
        "n=len(arr)\n",
        "ans=[]\n",
        "for i in range(n):\n",
        "  if not ans or arr[i][0]>ans[-1][1]:\n",
        "    ans.append(arr[i])\n",
        "  else:\n",
        "    ans[-1][1]=max(ans[-1][1],arr[i][1])\n",
        "print(ans)"
      ]
    },
    {
      "cell_type": "markdown",
      "metadata": {
        "id": "mD2v_mxOagDm"
      },
      "source": [
        "# **Merge Sorted Arrays Without Extra Space**"
      ]
    },
    {
      "cell_type": "code",
      "execution_count": null,
      "metadata": {
        "colab": {
          "base_uri": "https://localhost:8080/"
        },
        "id": "kXOnvV9avKhc",
        "outputId": "2fea2a0c-5ee5-4319-de6a-a01ccdaa43f6"
      },
      "outputs": [
        {
          "name": "stdout",
          "output_type": "stream",
          "text": [
            "[0, 1, 2, 3, 5, 6, 7, 8, 9]\n"
          ]
        }
      ],
      "source": [
        "# Method 1\n",
        "# TC: O(n1+n2)\n",
        "# Sc: O(n1+n2)\n",
        "arr1=[1,3,5,7]\n",
        "arr2=[0,2,6,8,9]\n",
        "n1=len(arr1)\n",
        "n2=len(arr2)\n",
        "ans=[]\n",
        "i,j=0,0\n",
        "while i<n1 and j<n2:\n",
        "  if arr1[i]<arr2[j]:\n",
        "    ans.append(arr1[i])\n",
        "    i+=1\n",
        "  else:\n",
        "    ans.append(arr2[j])\n",
        "    j+=1\n",
        "while i<n1:\n",
        "  ans.append(arr1[i])\n",
        "  i+=1\n",
        "while j<n2:\n",
        "  ans.append(arr2[j])\n",
        "  j+=1\n",
        "print(ans)"
      ]
    },
    {
      "cell_type": "code",
      "execution_count": null,
      "metadata": {
        "colab": {
          "background_save": true
        },
        "id": "Fo7DvYVgvKj_",
        "outputId": "3ab8c595-dedb-4212-e903-2d91322e87fe"
      },
      "outputs": [
        {
          "name": "stdout",
          "output_type": "stream",
          "text": [
            "[1, 3, 5, 7] [0, 2, 6, 8, 9]\n"
          ]
        }
      ],
      "source": [
        "# Method 2\n",
        "# TC: O(n1+n2)\n",
        "# Sc: O(n1+n2)\n",
        "arr1=[1,3,5,7]\n",
        "arr2=[0,2,6,8,9]\n",
        "n=len(arr1)\n",
        "m=len(arr2)\n",
        "left=n-1\n",
        "right=0\n",
        "while left<0 and right<n:\n",
        "  if arr1[left]>arr2[right]:\n",
        "    temp=arr1[left]\n",
        "    arr1[left]=arr2[right]\n",
        "    arr2[right]=temp\n",
        "    left-=1\n",
        "    right+=1\n",
        "  else:\n",
        "    break\n",
        "\n",
        "print(arr1,arr2)"
      ]
    },
    {
      "cell_type": "code",
      "execution_count": null,
      "metadata": {
        "id": "kglJ4kXdvKmo"
      },
      "outputs": [],
      "source": [
        "# Method 3\n",
        "# TC: O(n1+n2)\n",
        "# Sc: O(n1+n2)\n",
        "import math\n",
        "arr1=[1,3,5,7]\n",
        "arr2=[0,2,6,8,9]\n",
        "n=len(arr1)\n",
        "m=len(arr2)\n",
        "length=m+n\n",
        "gap=math.ceil(length/2)\n",
        "while gap>0:\n",
        "  left=0\n",
        "  right=left+gap\n",
        "  while right<length:\n",
        "    if left<n and right>=n:\n",
        "      pass\n",
        "    elif left>=n:\n",
        "      pass\n",
        "\n",
        "\n",
        "\n",
        "\n",
        "\n"
      ]
    },
    {
      "cell_type": "markdown",
      "source": [
        "# **Find the Missing and Repeating Number**"
      ],
      "metadata": {
        "id": "YDbOnugLQ3qW"
      }
    },
    {
      "cell_type": "code",
      "execution_count": null,
      "metadata": {
        "id": "R7HWJrl2vKrX",
        "colab": {
          "base_uri": "https://localhost:8080/"
        },
        "outputId": "3a2f115d-48c4-4006-f910-2e2e0a41f63c"
      },
      "outputs": [
        {
          "output_type": "stream",
          "name": "stdout",
          "text": [
            "6\n",
            "[1, 5]\n"
          ]
        }
      ],
      "source": [
        "# Method 1\n",
        "# Given the vlaue of n and array to find the missing number which is not present in array and repating checking all value till n\n",
        "n=int(input())\n",
        "arr=[4,3,6,2,1,1]\n",
        "temp=arr\n",
        "l=[i for i in range(1,n+1)]\n",
        "for i in range(len(l)):\n",
        "    if l[i] in arr:\n",
        "      temp.remove(l[i])\n",
        "    else:\n",
        "      temp.append(l[i])\n",
        "print(temp)\n"
      ]
    },
    {
      "cell_type": "code",
      "execution_count": null,
      "metadata": {
        "id": "HKwo0_32vKul",
        "colab": {
          "base_uri": "https://localhost:8080/"
        },
        "outputId": "c7cc9cb8-afdd-4bd5-99e0-ee216ceddac9"
      },
      "outputs": [
        {
          "output_type": "stream",
          "name": "stdout",
          "text": [
            "6\n",
            "5 1\n"
          ]
        }
      ],
      "source": [
        "# Method 2\n",
        "# TC : O(n^2)\n",
        "n=int(input())\n",
        "arr=[4,3,6,2,1,1]\n",
        "repating=-1\n",
        "missing=-1\n",
        "for i in range(1,n+1):\n",
        "  count=0\n",
        "  for j in range(len(arr)):\n",
        "    if arr[j]==i:\n",
        "      count+=1\n",
        "  if count==2:\n",
        "    repating=i\n",
        "  elif count==0:\n",
        "    missing=i\n",
        "  if repating==-1 and missing==-1:\n",
        "    break\n",
        "print(missing,repating)\n",
        "\n"
      ]
    },
    {
      "cell_type": "code",
      "execution_count": null,
      "metadata": {
        "id": "WQm0gDMpvKxP",
        "colab": {
          "base_uri": "https://localhost:8080/"
        },
        "outputId": "75313b1e-4ec1-4315-a8ba-cd51ec1faa16"
      },
      "outputs": [
        {
          "output_type": "stream",
          "name": "stdout",
          "text": [
            "6\n",
            "5\n",
            "1\n"
          ]
        }
      ],
      "source": [
        "# Method 2\n",
        "n=int(input())\n",
        "arr=[4,3,6,2,1,1]\n",
        "d={}\n",
        "for i in arr:\n",
        "  if i not in d:\n",
        "    d[i]=1\n",
        "  else:\n",
        "    d[i]+=1\n",
        "for i in range(1,n+1):\n",
        "  if i not in d:\n",
        "    print(i)\n",
        "for k,v in d.items():\n",
        "  if v==2:\n",
        "    print(k)"
      ]
    },
    {
      "cell_type": "code",
      "execution_count": null,
      "metadata": {
        "id": "SRg4YXWXvK0c",
        "colab": {
          "base_uri": "https://localhost:8080/"
        },
        "outputId": "6796ec98-6365-400a-bda6-fcd603ab360f"
      },
      "outputs": [
        {
          "output_type": "stream",
          "name": "stdout",
          "text": [
            "6\n",
            "1 5\n"
          ]
        }
      ],
      "source": [
        "# Method 3\n",
        "# TC: O(2n)\n",
        "# SC: O(n)\n",
        "n=int(input())\n",
        "arr=[4,3,6,2,1,1]\n",
        "has_arr=[0]*(n+1)\n",
        "repating=-1\n",
        "missing=-1\n",
        "for i in range(len(arr)):\n",
        "  has_arr[arr[i]]+=1\n",
        "for i in range(1,n+1):\n",
        "  if has_arr[i]==2:\n",
        "    repating=i\n",
        "  elif has_arr[i]==0:\n",
        "    missing=i\n",
        "  if repating==-1 and missing==-1:\n",
        "    break\n",
        "print(repating,missing)\n",
        "\n",
        "\n"
      ]
    },
    {
      "cell_type": "code",
      "execution_count": null,
      "metadata": {
        "id": "6eo5a7NZvK25",
        "colab": {
          "base_uri": "https://localhost:8080/"
        },
        "outputId": "9c8ce000-c6de-4759-950e-2f09c10abc26"
      },
      "outputs": [
        {
          "output_type": "stream",
          "name": "stdout",
          "text": [
            "1 5\n"
          ]
        }
      ],
      "source": [
        "# Method 4\n",
        "# TC: O(n)\n",
        "# SC: O(1)\n",
        "arr=[4,3,6,2,1,1]\n",
        "n=len(arr)\n",
        "sn=n*(n+1)/2\n",
        "s2n=(n*(n+1)*(2*n+1))/6\n",
        "s=0\n",
        "s2=0\n",
        "for i in range(n):\n",
        "  s+=arr[i]\n",
        "  s2+=arr[i]*arr[i]\n",
        "val1=s-sn #x-y\n",
        "val2=s2-s2n #x^2-y^2\n",
        "val2=val2/val1\n",
        "x=int((val1+val2)/2)\n",
        "y=int(x-val1)\n",
        "print(x,y)\n"
      ]
    },
    {
      "cell_type": "markdown",
      "source": [
        "# **Count Inversions in an Array**"
      ],
      "metadata": {
        "id": "sP5yS3WfRNmd"
      }
    },
    {
      "cell_type": "code",
      "execution_count": null,
      "metadata": {
        "id": "PWT-aE9HvK6E",
        "colab": {
          "base_uri": "https://localhost:8080/"
        },
        "outputId": "f94416ed-7c96-4a62-ab3b-6fb2c473b1fc"
      },
      "outputs": [
        {
          "output_type": "stream",
          "name": "stdout",
          "text": [
            "8\n"
          ]
        }
      ],
      "source": [
        "# left elemnet of pair must be less than the right element\n",
        "# Method 1\n",
        "# TC: O(n^2)\n",
        "# SC: O(1)\n",
        "arr=[5,3,2,4,1] # (5,3),(5,2),(5,4),(5,1),(3,2),(3,1),(2,1),(4,1)\n",
        "n=len(arr)\n",
        "count=0\n",
        "for i in range(n):\n",
        "  for j in range(i,n):\n",
        "    if arr[i]>arr[j]:\n",
        "      count+=1\n",
        "print(count)"
      ]
    },
    {
      "cell_type": "markdown",
      "source": [
        "# **Reverse Pairs**"
      ],
      "metadata": {
        "id": "DgaWnWLivavo"
      }
    },
    {
      "cell_type": "code",
      "execution_count": null,
      "metadata": {
        "id": "BbaNJOatvK8_",
        "colab": {
          "base_uri": "https://localhost:8080/"
        },
        "outputId": "4b51befd-755e-4e21-eaf3-cfab1d2f73a1"
      },
      "outputs": [
        {
          "output_type": "stream",
          "name": "stdout",
          "text": [
            "15\n"
          ]
        }
      ],
      "source": [
        "# Method 1\n",
        "# TC: O(n^2)\n",
        "# SC: O(1)\n",
        "arr=[40,25,19,12,9,6,2]\n",
        "n=len(arr)\n",
        "sub_arr=[]\n",
        "count=0\n",
        "for i in range(n):\n",
        "  for j in range(i+1,n):\n",
        "    if arr[i]>2*arr[j]:\n",
        "      count+=1\n",
        "print(count)"
      ]
    },
    {
      "cell_type": "markdown",
      "source": [
        "# **Maximum Product Subarray**"
      ],
      "metadata": {
        "id": "X66E96rb0ufe"
      }
    },
    {
      "cell_type": "code",
      "execution_count": null,
      "metadata": {
        "id": "MVdtoZ3dvLAr",
        "colab": {
          "base_uri": "https://localhost:8080/"
        },
        "outputId": "709e838e-c8ac-4761-ca6a-66c02e666d74"
      },
      "outputs": [
        {
          "output_type": "stream",
          "name": "stdout",
          "text": [
            "6\n"
          ]
        }
      ],
      "source": [
        "# Method 1\n",
        "# TC: O(n^3)\n",
        "# SC: O(1)\n",
        "import math\n",
        "arr=[2,3,-2,4]\n",
        "n=len(arr)\n",
        "max_prod=-math.inf\n",
        "for i in range(n):\n",
        "  for j in range(i,n):\n",
        "    prod=1\n",
        "    for k in range(i,j):\n",
        "      prod=prod*arr[k]\n",
        "    max_prod=max(max_prod,prod)\n",
        "print(max_prod)\n",
        "\n"
      ]
    },
    {
      "cell_type": "code",
      "execution_count": null,
      "metadata": {
        "id": "JFldt8iAvLDL",
        "colab": {
          "base_uri": "https://localhost:8080/"
        },
        "outputId": "70ea39cd-abc7-4d1c-afa7-76b51060e335"
      },
      "outputs": [
        {
          "output_type": "stream",
          "name": "stdout",
          "text": [
            "6\n"
          ]
        }
      ],
      "source": [
        "arr=[2,3,-2,4]\n",
        "n=len(arr)\n",
        "max_prod=0\n",
        "sub_arr=[]\n",
        "for i in range(n):\n",
        "  for j in range(i,n):\n",
        "    sub_arr.append(arr[i:j+1])\n",
        "prod=[]\n",
        "# print(sub_arr)\n",
        "for i in sub_arr:\n",
        "  mul=1\n",
        "  for j in i:\n",
        "    mul*=j\n",
        "  prod.append(mul)\n",
        "print(max(prod))\n"
      ]
    },
    {
      "cell_type": "code",
      "execution_count": null,
      "metadata": {
        "id": "88fKDM8qvLGY",
        "colab": {
          "base_uri": "https://localhost:8080/"
        },
        "outputId": "a8a19118-b298-401b-ff9a-3723c716dd1b"
      },
      "outputs": [
        {
          "output_type": "stream",
          "name": "stdout",
          "text": [
            "6\n"
          ]
        }
      ],
      "source": [
        "# Method 2\n",
        "# TC: O(n^3)\n",
        "# SC: O(1)\n",
        "import math\n",
        "arr=[2,3,-2,4]\n",
        "n=len(arr)\n",
        "max_prod=-math.inf\n",
        "for i in range(n):\n",
        "  prod=1\n",
        "  for j in range(i,n):\n",
        "    prod=prod*arr[j]\n",
        "    max_prod=max(max_prod,prod)\n",
        "print(max_prod)"
      ]
    },
    {
      "cell_type": "code",
      "execution_count": null,
      "metadata": {
        "id": "y1k6tmO9vLJO"
      },
      "outputs": [],
      "source": []
    },
    {
      "cell_type": "code",
      "execution_count": null,
      "metadata": {
        "id": "8l5zNGcXvLMf"
      },
      "outputs": [],
      "source": []
    }
  ],
  "metadata": {
    "colab": {
      "provenance": []
    },
    "kernelspec": {
      "display_name": "Python 3",
      "name": "python3"
    },
    "language_info": {
      "name": "python"
    }
  },
  "nbformat": 4,
  "nbformat_minor": 0
}